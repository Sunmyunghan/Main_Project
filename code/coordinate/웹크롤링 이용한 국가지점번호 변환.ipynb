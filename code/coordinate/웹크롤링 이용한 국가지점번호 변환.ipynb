{
 "cells": [
  {
   "cell_type": "code",
   "execution_count": 1,
   "id": "90fb10ef",
   "metadata": {
    "ExecuteTime": {
     "end_time": "2021-12-02T00:22:51.691371Z",
     "start_time": "2021-12-02T00:22:49.269729Z"
    }
   },
   "outputs": [],
   "source": [
    "import pandas as pd\n",
    "import geopandas as gpd"
   ]
  },
  {
   "cell_type": "code",
   "execution_count": 2,
   "id": "a6949deb",
   "metadata": {
    "ExecuteTime": {
     "end_time": "2021-12-02T00:22:51.755062Z",
     "start_time": "2021-12-02T00:22:51.746089Z"
    }
   },
   "outputs": [],
   "source": [
    "pd.set_option('display.max_columns', None) ## 모든 열을 출력한다."
   ]
  },
  {
   "cell_type": "code",
   "execution_count": 3,
   "id": "eba54ca6",
   "metadata": {
    "ExecuteTime": {
     "end_time": "2021-12-02T00:23:02.031907Z",
     "start_time": "2021-12-02T00:22:54.148665Z"
    }
   },
   "outputs": [
    {
     "data": {
      "text/html": [
       "<div>\n",
       "<style scoped>\n",
       "    .dataframe tbody tr th:only-of-type {\n",
       "        vertical-align: middle;\n",
       "    }\n",
       "\n",
       "    .dataframe tbody tr th {\n",
       "        vertical-align: top;\n",
       "    }\n",
       "\n",
       "    .dataframe thead th {\n",
       "        text-align: right;\n",
       "    }\n",
       "</style>\n",
       "<table border=\"1\" class=\"dataframe\">\n",
       "  <thead>\n",
       "    <tr style=\"text-align: right;\">\n",
       "      <th></th>\n",
       "      <th>gid</th>\n",
       "      <th>lbl</th>\n",
       "      <th>val</th>\n",
       "      <th>geometry</th>\n",
       "    </tr>\n",
       "  </thead>\n",
       "  <tbody>\n",
       "    <tr>\n",
       "      <th>0</th>\n",
       "      <td>라아830496</td>\n",
       "      <td>30.00</td>\n",
       "      <td>30.0</td>\n",
       "      <td>POLYGON ((128.45110 38.44316, 128.45225 38.443...</td>\n",
       "    </tr>\n",
       "    <tr>\n",
       "      <th>1</th>\n",
       "      <td>라아907296</td>\n",
       "      <td>N/A</td>\n",
       "      <td>0.0</td>\n",
       "      <td>POLYGON ((128.53675 38.26220, 128.53789 38.262...</td>\n",
       "    </tr>\n",
       "    <tr>\n",
       "      <th>2</th>\n",
       "      <td>라아805562</td>\n",
       "      <td>39.00</td>\n",
       "      <td>39.0</td>\n",
       "      <td>POLYGON ((128.42322 38.50286, 128.42436 38.502...</td>\n",
       "    </tr>\n",
       "    <tr>\n",
       "      <th>3</th>\n",
       "      <td>라아918334</td>\n",
       "      <td>N/A</td>\n",
       "      <td>0.0</td>\n",
       "      <td>POLYGON ((128.54981 38.29633, 128.55096 38.296...</td>\n",
       "    </tr>\n",
       "    <tr>\n",
       "      <th>4</th>\n",
       "      <td>라아805526</td>\n",
       "      <td>N/A</td>\n",
       "      <td>0.0</td>\n",
       "      <td>POLYGON ((128.42280 38.47042, 128.42395 38.470...</td>\n",
       "    </tr>\n",
       "  </tbody>\n",
       "</table>\n",
       "</div>"
      ],
      "text/plain": [
       "        gid    lbl   val                                           geometry\n",
       "0  라아830496  30.00  30.0  POLYGON ((128.45110 38.44316, 128.45225 38.443...\n",
       "1  라아907296    N/A   0.0  POLYGON ((128.53675 38.26220, 128.53789 38.262...\n",
       "2  라아805562  39.00  39.0  POLYGON ((128.42322 38.50286, 128.42436 38.502...\n",
       "3  라아918334    N/A   0.0  POLYGON ((128.54981 38.29633, 128.55096 38.296...\n",
       "4  라아805526    N/A   0.0  POLYGON ((128.42280 38.47042, 128.42395 38.470..."
      ]
     },
     "execution_count": 3,
     "metadata": {},
     "output_type": "execute_result"
    }
   ],
   "source": [
    "# 격자데이터\n",
    "df_frame = gpd.read_file(\"08.속초-고성_격자별인구현황.json\", encoding='utf-8')\n",
    "df_frame.head()"
   ]
  },
  {
   "cell_type": "code",
   "execution_count": 4,
   "id": "7ef10b9e",
   "metadata": {
    "ExecuteTime": {
     "end_time": "2021-12-02T00:23:02.222894Z",
     "start_time": "2021-12-02T00:23:02.090719Z"
    },
    "scrolled": true
   },
   "outputs": [
    {
     "data": {
      "text/html": [
       "<div>\n",
       "<style scoped>\n",
       "    .dataframe tbody tr th:only-of-type {\n",
       "        vertical-align: middle;\n",
       "    }\n",
       "\n",
       "    .dataframe tbody tr th {\n",
       "        vertical-align: top;\n",
       "    }\n",
       "\n",
       "    .dataframe thead th {\n",
       "        text-align: right;\n",
       "    }\n",
       "</style>\n",
       "<table border=\"1\" class=\"dataframe\">\n",
       "  <thead>\n",
       "    <tr style=\"text-align: right;\">\n",
       "      <th></th>\n",
       "      <th>Unnamed: 0</th>\n",
       "      <th>상가업소번호</th>\n",
       "      <th>상권업종대분류명</th>\n",
       "      <th>상권업종중분류명</th>\n",
       "      <th>상권업종소분류명</th>\n",
       "      <th>시군구명</th>\n",
       "      <th>경도</th>\n",
       "      <th>위도</th>\n",
       "      <th>date</th>\n",
       "      <th>geometry</th>\n",
       "      <th>GRID_ID</th>\n",
       "      <th>지번주소</th>\n",
       "      <th>도로명주소</th>\n",
       "    </tr>\n",
       "  </thead>\n",
       "  <tbody>\n",
       "    <tr>\n",
       "      <th>0</th>\n",
       "      <td>0</td>\n",
       "      <td>18921801</td>\n",
       "      <td>관광지</td>\n",
       "      <td>지역사찰</td>\n",
       "      <td>지역사찰</td>\n",
       "      <td>고성군</td>\n",
       "      <td>128.461232</td>\n",
       "      <td>38.450099</td>\n",
       "      <td>2021-06-01</td>\n",
       "      <td>POINT (128.461231846869 38.4500990879468)</td>\n",
       "      <td>라아838503</td>\n",
       "      <td>NaN</td>\n",
       "      <td>NaN</td>\n",
       "    </tr>\n",
       "    <tr>\n",
       "      <th>1</th>\n",
       "      <td>1</td>\n",
       "      <td>20739840</td>\n",
       "      <td>관광지</td>\n",
       "      <td>해수욕장</td>\n",
       "      <td>해수욕장</td>\n",
       "      <td>고성군</td>\n",
       "      <td>128.509936</td>\n",
       "      <td>38.356723</td>\n",
       "      <td>2021-06-01</td>\n",
       "      <td>POINT (128.509936046267 38.3567228330802)</td>\n",
       "      <td>라아882400</td>\n",
       "      <td>NaN</td>\n",
       "      <td>NaN</td>\n",
       "    </tr>\n",
       "    <tr>\n",
       "      <th>2</th>\n",
       "      <td>2</td>\n",
       "      <td>7231262</td>\n",
       "      <td>관광지</td>\n",
       "      <td>해수욕장</td>\n",
       "      <td>해수욕장</td>\n",
       "      <td>고성군</td>\n",
       "      <td>128.546412</td>\n",
       "      <td>38.300914</td>\n",
       "      <td>2021-06-01</td>\n",
       "      <td>POINT (128.546412289393 38.300913819225)</td>\n",
       "      <td>라아914339</td>\n",
       "      <td>NaN</td>\n",
       "      <td>NaN</td>\n",
       "    </tr>\n",
       "    <tr>\n",
       "      <th>3</th>\n",
       "      <td>3</td>\n",
       "      <td>11385177</td>\n",
       "      <td>관광지</td>\n",
       "      <td>일반관광지</td>\n",
       "      <td>일반관광지</td>\n",
       "      <td>고성군</td>\n",
       "      <td>128.370069</td>\n",
       "      <td>38.404499</td>\n",
       "      <td>2021-06-01</td>\n",
       "      <td>POINT (128.370069234145 38.4044988845984)</td>\n",
       "      <td>라아759452</td>\n",
       "      <td>NaN</td>\n",
       "      <td>NaN</td>\n",
       "    </tr>\n",
       "    <tr>\n",
       "      <th>4</th>\n",
       "      <td>4</td>\n",
       "      <td>14123105</td>\n",
       "      <td>관광지</td>\n",
       "      <td>토속/특산물/기념품매장</td>\n",
       "      <td>토속/특산물/기념품매장</td>\n",
       "      <td>고성군</td>\n",
       "      <td>128.535804</td>\n",
       "      <td>38.306674</td>\n",
       "      <td>2021-06-01</td>\n",
       "      <td>POINT (128.535803652593 38.3066740590294)</td>\n",
       "      <td>라아905345</td>\n",
       "      <td>NaN</td>\n",
       "      <td>NaN</td>\n",
       "    </tr>\n",
       "  </tbody>\n",
       "</table>\n",
       "</div>"
      ],
      "text/plain": [
       "   Unnamed: 0    상가업소번호 상권업종대분류명      상권업종중분류명      상권업종소분류명 시군구명          경도  \\\n",
       "0           0  18921801      관광지          지역사찰          지역사찰  고성군  128.461232   \n",
       "1           1  20739840      관광지          해수욕장          해수욕장  고성군  128.509936   \n",
       "2           2   7231262      관광지          해수욕장          해수욕장  고성군  128.546412   \n",
       "3           3  11385177      관광지         일반관광지         일반관광지  고성군  128.370069   \n",
       "4           4  14123105      관광지  토속/특산물/기념품매장  토속/특산물/기념품매장  고성군  128.535804   \n",
       "\n",
       "          위도        date                                   geometry   GRID_ID  \\\n",
       "0  38.450099  2021-06-01  POINT (128.461231846869 38.4500990879468)  라아838503   \n",
       "1  38.356723  2021-06-01  POINT (128.509936046267 38.3567228330802)  라아882400   \n",
       "2  38.300914  2021-06-01   POINT (128.546412289393 38.300913819225)  라아914339   \n",
       "3  38.404499  2021-06-01  POINT (128.370069234145 38.4044988845984)  라아759452   \n",
       "4  38.306674  2021-06-01  POINT (128.535803652593 38.3066740590294)  라아905345   \n",
       "\n",
       "  지번주소 도로명주소  \n",
       "0  NaN   NaN  \n",
       "1  NaN   NaN  \n",
       "2  NaN   NaN  \n",
       "3  NaN   NaN  \n",
       "4  NaN   NaN  "
      ]
     },
     "execution_count": 4,
     "metadata": {},
     "output_type": "execute_result"
    }
   ],
   "source": [
    "# 데이터\n",
    "df = pd.read_csv(\"merge_temp.csv\", encoding='utf-8')\n",
    "df.head()"
   ]
  },
  {
   "cell_type": "code",
   "execution_count": 5,
   "id": "47457aa2",
   "metadata": {
    "ExecuteTime": {
     "end_time": "2021-12-02T00:23:02.300728Z",
     "start_time": "2021-12-02T00:23:02.273703Z"
    }
   },
   "outputs": [],
   "source": [
    "df.drop(\"Unnamed: 0\", axis=1, inplace=True)"
   ]
  },
  {
   "cell_type": "code",
   "execution_count": 6,
   "id": "374cb331",
   "metadata": {
    "ExecuteTime": {
     "end_time": "2021-12-02T00:23:02.378695Z",
     "start_time": "2021-12-02T00:23:02.350870Z"
    }
   },
   "outputs": [
    {
     "data": {
      "text/html": [
       "<div>\n",
       "<style scoped>\n",
       "    .dataframe tbody tr th:only-of-type {\n",
       "        vertical-align: middle;\n",
       "    }\n",
       "\n",
       "    .dataframe tbody tr th {\n",
       "        vertical-align: top;\n",
       "    }\n",
       "\n",
       "    .dataframe thead th {\n",
       "        text-align: right;\n",
       "    }\n",
       "</style>\n",
       "<table border=\"1\" class=\"dataframe\">\n",
       "  <thead>\n",
       "    <tr style=\"text-align: right;\">\n",
       "      <th></th>\n",
       "      <th>상가업소번호</th>\n",
       "      <th>상권업종대분류명</th>\n",
       "      <th>상권업종중분류명</th>\n",
       "      <th>상권업종소분류명</th>\n",
       "      <th>시군구명</th>\n",
       "      <th>경도</th>\n",
       "      <th>위도</th>\n",
       "      <th>date</th>\n",
       "      <th>geometry</th>\n",
       "      <th>GRID_ID</th>\n",
       "      <th>지번주소</th>\n",
       "      <th>도로명주소</th>\n",
       "    </tr>\n",
       "  </thead>\n",
       "  <tbody>\n",
       "    <tr>\n",
       "      <th>0</th>\n",
       "      <td>18921801</td>\n",
       "      <td>관광지</td>\n",
       "      <td>지역사찰</td>\n",
       "      <td>지역사찰</td>\n",
       "      <td>고성군</td>\n",
       "      <td>128.461232</td>\n",
       "      <td>38.450099</td>\n",
       "      <td>2021-06-01</td>\n",
       "      <td>POINT (128.461231846869 38.4500990879468)</td>\n",
       "      <td>라아838503</td>\n",
       "      <td>NaN</td>\n",
       "      <td>NaN</td>\n",
       "    </tr>\n",
       "    <tr>\n",
       "      <th>1</th>\n",
       "      <td>20739840</td>\n",
       "      <td>관광지</td>\n",
       "      <td>해수욕장</td>\n",
       "      <td>해수욕장</td>\n",
       "      <td>고성군</td>\n",
       "      <td>128.509936</td>\n",
       "      <td>38.356723</td>\n",
       "      <td>2021-06-01</td>\n",
       "      <td>POINT (128.509936046267 38.3567228330802)</td>\n",
       "      <td>라아882400</td>\n",
       "      <td>NaN</td>\n",
       "      <td>NaN</td>\n",
       "    </tr>\n",
       "    <tr>\n",
       "      <th>2</th>\n",
       "      <td>7231262</td>\n",
       "      <td>관광지</td>\n",
       "      <td>해수욕장</td>\n",
       "      <td>해수욕장</td>\n",
       "      <td>고성군</td>\n",
       "      <td>128.546412</td>\n",
       "      <td>38.300914</td>\n",
       "      <td>2021-06-01</td>\n",
       "      <td>POINT (128.546412289393 38.300913819225)</td>\n",
       "      <td>라아914339</td>\n",
       "      <td>NaN</td>\n",
       "      <td>NaN</td>\n",
       "    </tr>\n",
       "    <tr>\n",
       "      <th>3</th>\n",
       "      <td>11385177</td>\n",
       "      <td>관광지</td>\n",
       "      <td>일반관광지</td>\n",
       "      <td>일반관광지</td>\n",
       "      <td>고성군</td>\n",
       "      <td>128.370069</td>\n",
       "      <td>38.404499</td>\n",
       "      <td>2021-06-01</td>\n",
       "      <td>POINT (128.370069234145 38.4044988845984)</td>\n",
       "      <td>라아759452</td>\n",
       "      <td>NaN</td>\n",
       "      <td>NaN</td>\n",
       "    </tr>\n",
       "    <tr>\n",
       "      <th>4</th>\n",
       "      <td>14123105</td>\n",
       "      <td>관광지</td>\n",
       "      <td>토속/특산물/기념품매장</td>\n",
       "      <td>토속/특산물/기념품매장</td>\n",
       "      <td>고성군</td>\n",
       "      <td>128.535804</td>\n",
       "      <td>38.306674</td>\n",
       "      <td>2021-06-01</td>\n",
       "      <td>POINT (128.535803652593 38.3066740590294)</td>\n",
       "      <td>라아905345</td>\n",
       "      <td>NaN</td>\n",
       "      <td>NaN</td>\n",
       "    </tr>\n",
       "  </tbody>\n",
       "</table>\n",
       "</div>"
      ],
      "text/plain": [
       "     상가업소번호 상권업종대분류명      상권업종중분류명      상권업종소분류명 시군구명          경도         위도  \\\n",
       "0  18921801      관광지          지역사찰          지역사찰  고성군  128.461232  38.450099   \n",
       "1  20739840      관광지          해수욕장          해수욕장  고성군  128.509936  38.356723   \n",
       "2   7231262      관광지          해수욕장          해수욕장  고성군  128.546412  38.300914   \n",
       "3  11385177      관광지         일반관광지         일반관광지  고성군  128.370069  38.404499   \n",
       "4  14123105      관광지  토속/특산물/기념품매장  토속/특산물/기념품매장  고성군  128.535804  38.306674   \n",
       "\n",
       "         date                                   geometry   GRID_ID 지번주소 도로명주소  \n",
       "0  2021-06-01  POINT (128.461231846869 38.4500990879468)  라아838503  NaN   NaN  \n",
       "1  2021-06-01  POINT (128.509936046267 38.3567228330802)  라아882400  NaN   NaN  \n",
       "2  2021-06-01   POINT (128.546412289393 38.300913819225)  라아914339  NaN   NaN  \n",
       "3  2021-06-01  POINT (128.370069234145 38.4044988845984)  라아759452  NaN   NaN  \n",
       "4  2021-06-01  POINT (128.535803652593 38.3066740590294)  라아905345  NaN   NaN  "
      ]
     },
     "execution_count": 6,
     "metadata": {},
     "output_type": "execute_result"
    }
   ],
   "source": [
    "df.head()"
   ]
  },
  {
   "cell_type": "code",
   "execution_count": 7,
   "id": "456ab53b",
   "metadata": {
    "ExecuteTime": {
     "end_time": "2021-12-02T00:23:02.440522Z",
     "start_time": "2021-12-02T00:23:02.428558Z"
    }
   },
   "outputs": [
    {
     "data": {
      "text/plain": [
       "21838"
      ]
     },
     "execution_count": 7,
     "metadata": {},
     "output_type": "execute_result"
    }
   ],
   "source": [
    "df.GRID_ID.isna().sum()"
   ]
  },
  {
   "cell_type": "code",
   "execution_count": null,
   "id": "ab8d37e7",
   "metadata": {},
   "outputs": [],
   "source": []
  },
  {
   "cell_type": "code",
   "execution_count": 35,
   "id": "32cc037b",
   "metadata": {
    "ExecuteTime": {
     "end_time": "2021-12-01T05:42:32.234779Z",
     "start_time": "2021-12-01T05:42:32.213835Z"
    }
   },
   "outputs": [
    {
     "data": {
      "text/plain": [
       "'38.4500990879468, 128.461231846869'"
      ]
     },
     "execution_count": 35,
     "metadata": {},
     "output_type": "execute_result"
    }
   ],
   "source": [
    "df[\"위도\"][0].astype(str) + \", \" + df[\"경도\"][0].astype(str)"
   ]
  },
  {
   "cell_type": "code",
   "execution_count": 8,
   "id": "c2bf57e7",
   "metadata": {
    "ExecuteTime": {
     "end_time": "2021-12-02T00:23:02.935582Z",
     "start_time": "2021-12-02T00:23:02.508341Z"
    }
   },
   "outputs": [],
   "source": [
    "# 셀레니움 import\n",
    "from selenium import webdriver\n",
    "from selenium.webdriver.common.keys import Keys\n",
    "from bs4 import BeautifulSoup"
   ]
  },
  {
   "cell_type": "code",
   "execution_count": 9,
   "id": "6a5484ab",
   "metadata": {
    "ExecuteTime": {
     "end_time": "2021-12-02T00:23:07.651325Z",
     "start_time": "2021-12-02T00:23:02.982708Z"
    }
   },
   "outputs": [],
   "source": [
    "# 크롬창 열기\n",
    "driver = webdriver.Chrome('chromedriver.exe')"
   ]
  },
  {
   "cell_type": "code",
   "execution_count": 10,
   "id": "14dcd554",
   "metadata": {
    "ExecuteTime": {
     "end_time": "2021-12-02T00:23:08.521294Z",
     "start_time": "2021-12-02T00:23:07.766709Z"
    }
   },
   "outputs": [],
   "source": [
    "# 설정한 url로 데이터 get함수로 요청\n",
    "url = 'https://ch1517.github.io/CountryBranchCode/'\n",
    "driver.get(url)"
   ]
  },
  {
   "cell_type": "code",
   "execution_count": 11,
   "id": "0450b6e8",
   "metadata": {
    "ExecuteTime": {
     "end_time": "2021-12-02T00:23:09.138625Z",
     "start_time": "2021-12-02T00:23:08.601064Z"
    }
   },
   "outputs": [],
   "source": [
    "input_str = df[\"위도\"][0].astype(str) + \", \" + df[\"경도\"][0].astype(str) + \"\\n\"\n",
    "driver.find_element_by_xpath('//*[@id=\"root\"]/div/header/form/input[1]').send_keys(input_str)"
   ]
  },
  {
   "cell_type": "code",
   "execution_count": 12,
   "id": "ecf0844f",
   "metadata": {
    "ExecuteTime": {
     "end_time": "2021-12-02T00:23:09.383529Z",
     "start_time": "2021-12-02T00:23:09.223401Z"
    }
   },
   "outputs": [],
   "source": [
    "driver.find_element_by_xpath('//*[@id=\"root\"]/div/div/div/div[1]/div[4]/img').click()"
   ]
  },
  {
   "cell_type": "code",
   "execution_count": 13,
   "id": "c19cd1ff",
   "metadata": {
    "ExecuteTime": {
     "end_time": "2021-12-02T00:23:10.010071Z",
     "start_time": "2021-12-02T00:23:09.463302Z"
    }
   },
   "outputs": [
    {
     "ename": "NameError",
     "evalue": "name 'requests' is not defined",
     "output_type": "error",
     "traceback": [
      "\u001b[1;31m---------------------------------------------------------------------------\u001b[0m",
      "\u001b[1;31mNameError\u001b[0m                                 Traceback (most recent call last)",
      "\u001b[1;32m<ipython-input-13-1d0bcf602617>\u001b[0m in \u001b[0;36m<module>\u001b[1;34m\u001b[0m\n\u001b[0;32m      5\u001b[0m \u001b[1;33m\u001b[0m\u001b[0m\n\u001b[0;32m      6\u001b[0m \u001b[1;31m# requsts로 url에 정보요청 (.get 함수를 자주 사용하면 서비스 제공자가 블락할 수 있어 1번 사용한 후, 주석처리를 하고 변수로 설정하여 사용한다.)\u001b[0m\u001b[1;33m\u001b[0m\u001b[1;33m\u001b[0m\u001b[1;33m\u001b[0m\u001b[0m\n\u001b[1;32m----> 7\u001b[1;33m \u001b[0mresponse\u001b[0m \u001b[1;33m=\u001b[0m \u001b[0mrequests\u001b[0m\u001b[1;33m.\u001b[0m\u001b[0mget\u001b[0m\u001b[1;33m(\u001b[0m\u001b[0murl\u001b[0m\u001b[1;33m,\u001b[0m \u001b[0mheaders\u001b[0m \u001b[1;33m=\u001b[0m \u001b[0mheaders\u001b[0m\u001b[1;33m)\u001b[0m\u001b[1;33m\u001b[0m\u001b[1;33m\u001b[0m\u001b[0m\n\u001b[0m\u001b[0;32m      8\u001b[0m \u001b[1;31m# response = requests.get(url)\u001b[0m\u001b[1;33m\u001b[0m\u001b[1;33m\u001b[0m\u001b[1;33m\u001b[0m\u001b[0m\n\u001b[0;32m      9\u001b[0m \u001b[1;31m# 정보를 html 변환 (보기 쉽게)\u001b[0m\u001b[1;33m\u001b[0m\u001b[1;33m\u001b[0m\u001b[1;33m\u001b[0m\u001b[0m\n",
      "\u001b[1;31mNameError\u001b[0m: name 'requests' is not defined"
     ]
    }
   ],
   "source": [
    "# 무분별한 크롤링을 막기위한 방지코드가 존재\n",
    "# 아래 사이트에서 User-Agent 정보를 복사하여 header를 추가하여 request한다.\n",
    "# www.useragentstring.com/\n",
    "headers = {'User-Agent': 'Mozilla/5.0 (Windows NT 10.0; Win64; x64) AppleWebKit/537.36 (KHTML, like Gecko) Chrome/96.0.4664.45 Safari/537.36'} # 각자 본인의 User-Agent 정보 입력 \n",
    "\n",
    "# requsts로 url에 정보요청 (.get 함수를 자주 사용하면 서비스 제공자가 블락할 수 있어 1번 사용한 후, 주석처리를 하고 변수로 설정하여 사용한다.)\n",
    "response = requests.get(url, headers = headers)\n",
    "# response = requests.get(url)\n",
    "# 정보를 html 변환 (보기 쉽게)\n",
    "soup = BeautifulSoup(resp.text, 'html')"
   ]
  },
  {
   "cell_type": "markdown",
   "id": "82207216",
   "metadata": {},
   "source": [
    "select가 안됨"
   ]
  },
  {
   "cell_type": "code",
   "execution_count": 108,
   "id": "088afc07",
   "metadata": {
    "ExecuteTime": {
     "end_time": "2021-12-01T06:18:58.618889Z",
     "start_time": "2021-12-01T06:18:58.592621Z"
    }
   },
   "outputs": [
    {
     "ename": "TypeError",
     "evalue": "'NoneType' object is not callable",
     "output_type": "error",
     "traceback": [
      "\u001b[1;31m---------------------------------------------------------------------------\u001b[0m",
      "\u001b[1;31mTypeError\u001b[0m                                 Traceback (most recent call last)",
      "\u001b[1;32m<ipython-input-108-42dbca4b9cc9>\u001b[0m in \u001b[0;36m<module>\u001b[1;34m\u001b[0m\n\u001b[1;32m----> 1\u001b[1;33m \u001b[0msoup\u001b[0m\u001b[1;33m.\u001b[0m\u001b[0minfo\u001b[0m\u001b[1;33m(\u001b[0m\u001b[1;33m)\u001b[0m\u001b[1;33m\u001b[0m\u001b[1;33m\u001b[0m\u001b[0m\n\u001b[0m",
      "\u001b[1;31mTypeError\u001b[0m: 'NoneType' object is not callable"
     ]
    }
   ],
   "source": [
    "soup.info()"
   ]
  },
  {
   "cell_type": "code",
   "execution_count": 14,
   "id": "1242b427",
   "metadata": {
    "ExecuteTime": {
     "end_time": "2021-12-02T00:24:07.738297Z",
     "start_time": "2021-12-02T00:24:07.715382Z"
    }
   },
   "outputs": [
    {
     "ename": "NameError",
     "evalue": "name 'soup' is not defined",
     "output_type": "error",
     "traceback": [
      "\u001b[1;31m---------------------------------------------------------------------------\u001b[0m",
      "\u001b[1;31mNameError\u001b[0m                                 Traceback (most recent call last)",
      "\u001b[1;32m<ipython-input-14-34cb83a11fc0>\u001b[0m in \u001b[0;36m<module>\u001b[1;34m\u001b[0m\n\u001b[1;32m----> 1\u001b[1;33m \u001b[0msoup\u001b[0m\u001b[1;33m.\u001b[0m\u001b[0mselect\u001b[0m\u001b[1;33m(\u001b[0m\u001b[1;34m\"div.cbcCode\"\u001b[0m\u001b[1;33m)\u001b[0m\u001b[1;33m\u001b[0m\u001b[1;33m\u001b[0m\u001b[0m\n\u001b[0m",
      "\u001b[1;31mNameError\u001b[0m: name 'soup' is not defined"
     ]
    }
   ],
   "source": [
    "soup.select(\"div.cbcCode\")"
   ]
  },
  {
   "cell_type": "code",
   "execution_count": 91,
   "id": "705bea7f",
   "metadata": {
    "ExecuteTime": {
     "end_time": "2021-12-01T06:00:51.776233Z",
     "start_time": "2021-12-01T06:00:51.760430Z"
    },
    "scrolled": true
   },
   "outputs": [
    {
     "ename": "TypeError",
     "evalue": "select() missing 1 required positional argument: 'selector'",
     "output_type": "error",
     "traceback": [
      "\u001b[1;31m---------------------------------------------------------------------------\u001b[0m",
      "\u001b[1;31mTypeError\u001b[0m                                 Traceback (most recent call last)",
      "\u001b[1;32m<ipython-input-91-ab31e2f40215>\u001b[0m in \u001b[0;36m<module>\u001b[1;34m\u001b[0m\n\u001b[1;32m----> 1\u001b[1;33m \u001b[0msoup\u001b[0m\u001b[1;33m.\u001b[0m\u001b[0mselect\u001b[0m\u001b[1;33m(\u001b[0m\u001b[1;33m)\u001b[0m\u001b[1;33m\u001b[0m\u001b[1;33m\u001b[0m\u001b[0m\n\u001b[0m",
      "\u001b[1;31mTypeError\u001b[0m: select() missing 1 required positional argument: 'selector'"
     ]
    }
   ],
   "source": [
    "soup.select()<span class=\"popupSpan\"><b>다바 8747 1942</b><br>36.37216, 127.36035</span>"
   ]
  },
  {
   "cell_type": "code",
   "execution_count": null,
   "id": "60061148",
   "metadata": {},
   "outputs": [],
   "source": []
  },
  {
   "cell_type": "code",
   "execution_count": null,
   "id": "5733ec26",
   "metadata": {},
   "outputs": [],
   "source": [
    "import numpy as np\n",
    "import pandas as pd\n",
    "import requests # 웹 상의 데이터를 가져올 때\n",
    "from bs4 import BeautifulSoup # 가져온 데이터에서 필요한 정보를 골라낼(파싱할) 때"
   ]
  },
  {
   "cell_type": "code",
   "execution_count": null,
   "id": "2cdd8078",
   "metadata": {},
   "outputs": [],
   "source": [
    "# 빈 딕셔너리 생성\n",
    "# dic_ = {\n",
    "#     'title': [],\n",
    "#     'search_point': [],\n",
    "#     'etc': [],\n",
    "#     'view_count': [],\n",
    "#     'review_count': []\n",
    "# }\n",
    "\n",
    "# 검색지역 지정\n",
    "# keyword = \"속초\"\n",
    "\n",
    "# 1~10 페이지 설정\n",
    "# for page in range(10):\n",
    "    # url정의\n",
    "    url = 'https://ch1517.github.io/CountryBranchCode/'\n",
    "\n",
    "    # requsts로 url에 정보요청 (.get 함수를 자주 사용하면 서비스 제공자가 블락할 수 있어 1번 사용한 후, 주석처리를 하고 변수로 설정하여 사용한다.)\n",
    "    resp = requests.get(url)\n",
    "\n",
    "    # 정보를 html 변환 (보기 쉽게)\n",
    "    soup = BeautifulSoup(resp.text, 'lxml')\n",
    "\n",
    "    # 20개의 게시물 크롤링\n",
    "    for i in range(20):\n",
    "        title = soup.select(\"h2.title\")[i].text\n",
    "        search_point = soup.select(\"strong.point.search_point\")[i].text\n",
    "        etc = soup.select(\"p.etc\")[i].text\n",
    "        view_count = soup.select(\"span.view_count\")[i].text\n",
    "        review_count = soup.select(\"span.review_count\")[i].text\n",
    "\n",
    "        dic_['title'].append(title)\n",
    "        dic_['search_point'].append(search_point)\n",
    "        dic_['etc'].append(etc)\n",
    "        dic_['view_count'].append(view_count)\n",
    "        dic_['review_count'].append(review_count)"
   ]
  },
  {
   "cell_type": "code",
   "execution_count": null,
   "id": "f8a65a28",
   "metadata": {},
   "outputs": [],
   "source": []
  },
  {
   "cell_type": "code",
   "execution_count": null,
   "id": "df12db1b",
   "metadata": {},
   "outputs": [],
   "source": []
  },
  {
   "cell_type": "code",
   "execution_count": null,
   "id": "06f5b327",
   "metadata": {},
   "outputs": [],
   "source": []
  },
  {
   "cell_type": "code",
   "execution_count": null,
   "id": "0f250f4a",
   "metadata": {},
   "outputs": [],
   "source": []
  },
  {
   "cell_type": "code",
   "execution_count": null,
   "id": "903b01d1",
   "metadata": {},
   "outputs": [],
   "source": [
    "# 좌표계 기준 1m 미리 설정\n",
    "one_meter = 0.0000113\n",
    "\n",
    "frame_data = df_frame\n",
    "\n",
    "def in100(data):\n",
    "    frame_data[data.columns[2]] = 0\n",
    "    for i in tqdm(range(len(data))):\n",
    "        a = frame_data[(frame_data['x'] <= data.loc[i,'x']+one_meter*100) &\n",
    "                   (frame_data['y'] <= data.loc[i,'y']+one_meter*100) &\n",
    "                   (data.loc[i,'x']-one_meter*100 <= frame_data['x']) &\n",
    "                   (data.loc[i,'y']-one_meter*100 <= frame_data['y'])].index\n",
    "        frame_data.loc[a, data.columns[2]]+=data.loc[i, data.columns[2]]\n",
    "    print(\"반경 100m내의 격자포인트에 데이터를 성공적으로 할당하였습니다\")\n",
    "    \n",
    "# 격자데이터 -> frame_data\n",
    "# 데이터 -> data\n",
    "# lon -> x\n",
    "# lat -> y\n",
    "# 위치 -> a\n"
   ]
  }
 ],
 "metadata": {
  "kernelspec": {
   "display_name": "Python 3",
   "language": "python",
   "name": "python3"
  },
  "language_info": {
   "codemirror_mode": {
    "name": "ipython",
    "version": 3
   },
   "file_extension": ".py",
   "mimetype": "text/x-python",
   "name": "python",
   "nbconvert_exporter": "python",
   "pygments_lexer": "ipython3",
   "version": "3.8.8"
  },
  "toc": {
   "base_numbering": 1,
   "nav_menu": {},
   "number_sections": true,
   "sideBar": true,
   "skip_h1_title": false,
   "title_cell": "Table of Contents",
   "title_sidebar": "Contents",
   "toc_cell": false,
   "toc_position": {},
   "toc_section_display": true,
   "toc_window_display": false
  },
  "varInspector": {
   "cols": {
    "lenName": 16,
    "lenType": 16,
    "lenVar": 40
   },
   "kernels_config": {
    "python": {
     "delete_cmd_postfix": "",
     "delete_cmd_prefix": "del ",
     "library": "var_list.py",
     "varRefreshCmd": "print(var_dic_list())"
    },
    "r": {
     "delete_cmd_postfix": ") ",
     "delete_cmd_prefix": "rm(",
     "library": "var_list.r",
     "varRefreshCmd": "cat(var_dic_list()) "
    }
   },
   "types_to_exclude": [
    "module",
    "function",
    "builtin_function_or_method",
    "instance",
    "_Feature"
   ],
   "window_display": false
  }
 },
 "nbformat": 4,
 "nbformat_minor": 5
}
