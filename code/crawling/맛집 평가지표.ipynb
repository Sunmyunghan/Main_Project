{
 "cells": [
  {
   "cell_type": "code",
   "execution_count": 1,
   "id": "b8be0a76",
   "metadata": {
    "ExecuteTime": {
     "end_time": "2021-12-05T06:34:37.896042Z",
     "start_time": "2021-12-05T06:34:36.364426Z"
    }
   },
   "outputs": [],
   "source": [
    "import numpy as np\n",
    "import pandas as pd\n",
    "import matplotlib.pyplot as plt\n",
    "import seaborn as sns\n",
    "%matplotlib inline "
   ]
  },
  {
   "cell_type": "markdown",
   "id": "5a2ac99b",
   "metadata": {},
   "source": [
    "# 데이터 불러오기"
   ]
  },
  {
   "cell_type": "code",
   "execution_count": 2,
   "id": "0ac96dc0",
   "metadata": {
    "ExecuteTime": {
     "end_time": "2021-12-05T06:34:37.975829Z",
     "start_time": "2021-12-05T06:34:37.931947Z"
    }
   },
   "outputs": [
    {
     "data": {
      "text/html": [
       "<div>\n",
       "<style scoped>\n",
       "    .dataframe tbody tr th:only-of-type {\n",
       "        vertical-align: middle;\n",
       "    }\n",
       "\n",
       "    .dataframe tbody tr th {\n",
       "        vertical-align: top;\n",
       "    }\n",
       "\n",
       "    .dataframe thead th {\n",
       "        text-align: right;\n",
       "    }\n",
       "</style>\n",
       "<table border=\"1\" class=\"dataframe\">\n",
       "  <thead>\n",
       "    <tr style=\"text-align: right;\">\n",
       "      <th></th>\n",
       "      <th>title</th>\n",
       "      <th>search_point</th>\n",
       "      <th>etc</th>\n",
       "      <th>view_count</th>\n",
       "      <th>review_count</th>\n",
       "      <th>address</th>\n",
       "      <th>dongname</th>\n",
       "    </tr>\n",
       "  </thead>\n",
       "  <tbody>\n",
       "    <tr>\n",
       "      <th>0</th>\n",
       "      <td>모녀가리비</td>\n",
       "      <td>4.5</td>\n",
       "      <td>강원 속초시 - 해산물 요리</td>\n",
       "      <td>4,174</td>\n",
       "      <td>10</td>\n",
       "      <td>강원도 속초시 대포동 964-13</td>\n",
       "      <td>강원도 속초시 대포동</td>\n",
       "    </tr>\n",
       "    <tr>\n",
       "      <th>1</th>\n",
       "      <td>속초붉은대게수산</td>\n",
       "      <td>4.4</td>\n",
       "      <td>강원 속초시 - 해산물 요리</td>\n",
       "      <td>34,739</td>\n",
       "      <td>17</td>\n",
       "      <td>강원도 속초시 중앙동 472-5</td>\n",
       "      <td>강원도 속초시 중앙동</td>\n",
       "    </tr>\n",
       "    <tr>\n",
       "      <th>2</th>\n",
       "      <td>단천식당</td>\n",
       "      <td>4.3</td>\n",
       "      <td>강원 속초시 - 탕 / 찌개 / 전골</td>\n",
       "      <td>30,457</td>\n",
       "      <td>38</td>\n",
       "      <td>강원도 속초시 청호동 842</td>\n",
       "      <td>강원도 속초시 청호동</td>\n",
       "    </tr>\n",
       "    <tr>\n",
       "      <th>3</th>\n",
       "      <td>왕박골식당</td>\n",
       "      <td>4.3</td>\n",
       "      <td>강원 속초시 - 국수 / 면 요리</td>\n",
       "      <td>24,858</td>\n",
       "      <td>14</td>\n",
       "      <td>강원도 속초시 장사동 525-3</td>\n",
       "      <td>강원도 속초시 장사동</td>\n",
       "    </tr>\n",
       "    <tr>\n",
       "      <th>4</th>\n",
       "      <td>속초751샌드위치</td>\n",
       "      <td>4.3</td>\n",
       "      <td>강원 속초시 - 브런치 / 버거 / 샌드위치</td>\n",
       "      <td>16,463</td>\n",
       "      <td>14</td>\n",
       "      <td>강원도 속초시 교동 780-55</td>\n",
       "      <td>강원도 속초시 교동</td>\n",
       "    </tr>\n",
       "  </tbody>\n",
       "</table>\n",
       "</div>"
      ],
      "text/plain": [
       "       title  search_point                       etc view_count  review_count  \\\n",
       "0      모녀가리비           4.5           강원 속초시 - 해산물 요리      4,174            10   \n",
       "1   속초붉은대게수산           4.4           강원 속초시 - 해산물 요리     34,739            17   \n",
       "2       단천식당           4.3      강원 속초시 - 탕 / 찌개 / 전골     30,457            38   \n",
       "3      왕박골식당           4.3        강원 속초시 - 국수 / 면 요리     24,858            14   \n",
       "4  속초751샌드위치           4.3  강원 속초시 - 브런치 / 버거 / 샌드위치     16,463            14   \n",
       "\n",
       "              address     dongname  \n",
       "0  강원도 속초시 대포동 964-13  강원도 속초시 대포동  \n",
       "1   강원도 속초시 중앙동 472-5  강원도 속초시 중앙동  \n",
       "2     강원도 속초시 청호동 842  강원도 속초시 청호동  \n",
       "3   강원도 속초시 장사동 525-3  강원도 속초시 장사동  \n",
       "4   강원도 속초시 교동 780-55   강원도 속초시 교동  "
      ]
     },
     "execution_count": 2,
     "metadata": {},
     "output_type": "execute_result"
    }
   ],
   "source": [
    "df = pd.read_csv(\"속초-고성_맛집.csv\", encoding = 'cp949')\n",
    "df.head()"
   ]
  },
  {
   "cell_type": "code",
   "execution_count": 3,
   "id": "44435d9f",
   "metadata": {
    "ExecuteTime": {
     "end_time": "2021-12-05T06:34:38.404236Z",
     "start_time": "2021-12-05T06:34:38.378268Z"
    }
   },
   "outputs": [
    {
     "name": "stdout",
     "output_type": "stream",
     "text": [
      "<class 'pandas.core.frame.DataFrame'>\n",
      "RangeIndex: 1143 entries, 0 to 1142\n",
      "Data columns (total 7 columns):\n",
      " #   Column        Non-Null Count  Dtype  \n",
      "---  ------        --------------  -----  \n",
      " 0   title         1143 non-null   object \n",
      " 1   search_point  1143 non-null   float64\n",
      " 2   etc           1143 non-null   object \n",
      " 3   view_count    1143 non-null   object \n",
      " 4   review_count  1143 non-null   int64  \n",
      " 5   address       1143 non-null   object \n",
      " 6   dongname      1143 non-null   object \n",
      "dtypes: float64(1), int64(1), object(5)\n",
      "memory usage: 62.6+ KB\n"
     ]
    }
   ],
   "source": [
    "# 데이터 타입 확인\n",
    "df.info()"
   ]
  },
  {
   "cell_type": "code",
   "execution_count": 4,
   "id": "28968681",
   "metadata": {
    "ExecuteTime": {
     "end_time": "2021-12-05T06:34:39.002892Z",
     "start_time": "2021-12-05T06:34:38.980949Z"
    }
   },
   "outputs": [
    {
     "data": {
      "text/plain": [
       "0        4,174\n",
       "1       34,739\n",
       "2       30,457\n",
       "3       24,858\n",
       "4       16,463\n",
       "         ...  \n",
       "1138       119\n",
       "1139       119\n",
       "1140       117\n",
       "1141       104\n",
       "1142       104\n",
       "Name: view_count, Length: 1143, dtype: object"
      ]
     },
     "execution_count": 4,
     "metadata": {},
     "output_type": "execute_result"
    }
   ],
   "source": [
    "df[\"view_count\"]"
   ]
  },
  {
   "cell_type": "markdown",
   "id": "54ee59f6",
   "metadata": {},
   "source": [
    "# 데이터 전처리"
   ]
  },
  {
   "cell_type": "markdown",
   "id": "adca61fe",
   "metadata": {},
   "source": [
    "## 데이터 타입 변경(obj -> int)"
   ]
  },
  {
   "cell_type": "code",
   "execution_count": 5,
   "id": "ae3bac82",
   "metadata": {
    "ExecuteTime": {
     "end_time": "2021-12-05T06:34:39.478278Z",
     "start_time": "2021-12-05T06:34:39.469121Z"
    }
   },
   "outputs": [],
   "source": [
    "# 데이터의 \",\" 제거\n",
    "df[\"view_count\"] = df[\"view_count\"].str.replace(\",\", \"\")"
   ]
  },
  {
   "cell_type": "code",
   "execution_count": 6,
   "id": "a94fafa4",
   "metadata": {
    "ExecuteTime": {
     "end_time": "2021-12-05T06:34:39.637030Z",
     "start_time": "2021-12-05T06:34:39.618082Z"
    }
   },
   "outputs": [],
   "source": [
    "# 데이터 타입 변경 : object -> int\n",
    "df[\"view_count\"] = df[\"view_count\"].astype(int)"
   ]
  },
  {
   "cell_type": "code",
   "execution_count": 7,
   "id": "e5939c7c",
   "metadata": {
    "ExecuteTime": {
     "end_time": "2021-12-05T06:34:39.841775Z",
     "start_time": "2021-12-05T06:34:39.809662Z"
    },
    "scrolled": true
   },
   "outputs": [
    {
     "name": "stdout",
     "output_type": "stream",
     "text": [
      "<class 'pandas.core.frame.DataFrame'>\n",
      "RangeIndex: 1143 entries, 0 to 1142\n",
      "Data columns (total 7 columns):\n",
      " #   Column        Non-Null Count  Dtype  \n",
      "---  ------        --------------  -----  \n",
      " 0   title         1143 non-null   object \n",
      " 1   search_point  1143 non-null   float64\n",
      " 2   etc           1143 non-null   object \n",
      " 3   view_count    1143 non-null   int32  \n",
      " 4   review_count  1143 non-null   int64  \n",
      " 5   address       1143 non-null   object \n",
      " 6   dongname      1143 non-null   object \n",
      "dtypes: float64(1), int32(1), int64(1), object(4)\n",
      "memory usage: 58.2+ KB\n"
     ]
    }
   ],
   "source": [
    "# 확인\n",
    "df.info()"
   ]
  },
  {
   "cell_type": "markdown",
   "id": "a8f8ad93",
   "metadata": {},
   "source": [
    "# 데이터 특성 확인"
   ]
  },
  {
   "cell_type": "code",
   "execution_count": 8,
   "id": "d448a7ee",
   "metadata": {
    "ExecuteTime": {
     "end_time": "2021-12-05T06:34:40.175881Z",
     "start_time": "2021-12-05T06:34:40.146962Z"
    }
   },
   "outputs": [
    {
     "data": {
      "text/html": [
       "<div>\n",
       "<style scoped>\n",
       "    .dataframe tbody tr th:only-of-type {\n",
       "        vertical-align: middle;\n",
       "    }\n",
       "\n",
       "    .dataframe tbody tr th {\n",
       "        vertical-align: top;\n",
       "    }\n",
       "\n",
       "    .dataframe thead th {\n",
       "        text-align: right;\n",
       "    }\n",
       "</style>\n",
       "<table border=\"1\" class=\"dataframe\">\n",
       "  <thead>\n",
       "    <tr style=\"text-align: right;\">\n",
       "      <th></th>\n",
       "      <th>search_point</th>\n",
       "      <th>view_count</th>\n",
       "      <th>review_count</th>\n",
       "    </tr>\n",
       "  </thead>\n",
       "  <tbody>\n",
       "    <tr>\n",
       "      <th>count</th>\n",
       "      <td>1143.000000</td>\n",
       "      <td>1143.000000</td>\n",
       "      <td>1143.000000</td>\n",
       "    </tr>\n",
       "    <tr>\n",
       "      <th>mean</th>\n",
       "      <td>0.342257</td>\n",
       "      <td>3595.352581</td>\n",
       "      <td>3.805774</td>\n",
       "    </tr>\n",
       "    <tr>\n",
       "      <th>std</th>\n",
       "      <td>1.097397</td>\n",
       "      <td>13379.869446</td>\n",
       "      <td>15.477482</td>\n",
       "    </tr>\n",
       "    <tr>\n",
       "      <th>min</th>\n",
       "      <td>0.000000</td>\n",
       "      <td>4.000000</td>\n",
       "      <td>0.000000</td>\n",
       "    </tr>\n",
       "    <tr>\n",
       "      <th>25%</th>\n",
       "      <td>0.000000</td>\n",
       "      <td>558.000000</td>\n",
       "      <td>0.000000</td>\n",
       "    </tr>\n",
       "    <tr>\n",
       "      <th>50%</th>\n",
       "      <td>0.000000</td>\n",
       "      <td>1000.000000</td>\n",
       "      <td>1.000000</td>\n",
       "    </tr>\n",
       "    <tr>\n",
       "      <th>75%</th>\n",
       "      <td>0.000000</td>\n",
       "      <td>2046.000000</td>\n",
       "      <td>2.000000</td>\n",
       "    </tr>\n",
       "    <tr>\n",
       "      <th>max</th>\n",
       "      <td>4.500000</td>\n",
       "      <td>297917.000000</td>\n",
       "      <td>286.000000</td>\n",
       "    </tr>\n",
       "  </tbody>\n",
       "</table>\n",
       "</div>"
      ],
      "text/plain": [
       "       search_point     view_count  review_count\n",
       "count   1143.000000    1143.000000   1143.000000\n",
       "mean       0.342257    3595.352581      3.805774\n",
       "std        1.097397   13379.869446     15.477482\n",
       "min        0.000000       4.000000      0.000000\n",
       "25%        0.000000     558.000000      0.000000\n",
       "50%        0.000000    1000.000000      1.000000\n",
       "75%        0.000000    2046.000000      2.000000\n",
       "max        4.500000  297917.000000    286.000000"
      ]
     },
     "execution_count": 8,
     "metadata": {},
     "output_type": "execute_result"
    }
   ],
   "source": [
    "df.describe()"
   ]
  },
  {
   "cell_type": "code",
   "execution_count": 9,
   "id": "657d693c",
   "metadata": {
    "ExecuteTime": {
     "end_time": "2021-12-05T06:34:40.319499Z",
     "start_time": "2021-12-05T06:34:40.302544Z"
    }
   },
   "outputs": [
    {
     "data": {
      "text/plain": [
       "1143"
      ]
     },
     "execution_count": 9,
     "metadata": {},
     "output_type": "execute_result"
    }
   ],
   "source": [
    "len(df)"
   ]
  },
  {
   "cell_type": "code",
   "execution_count": 10,
   "id": "8e2c7e30",
   "metadata": {
    "ExecuteTime": {
     "end_time": "2021-12-05T06:34:40.920937Z",
     "start_time": "2021-12-05T06:34:40.452159Z"
    },
    "scrolled": false
   },
   "outputs": [
    {
     "data": {
      "text/plain": [
       "<AxesSubplot:>"
      ]
     },
     "execution_count": 10,
     "metadata": {},
     "output_type": "execute_result"
    },
    {
     "data": {
      "image/png": "[encoded data removed]",
      "text/plain": [
       "<Figure size 576x432 with 2 Axes>"
      ]
     },
     "metadata": {
      "needs_background": "light"
     },
     "output_type": "display_data"
    }
   ],
   "source": [
    "# column끼리 연관성\n",
    "plt.figure(figsize=(8,6))\n",
    "sns.heatmap(df.corr(), annot=True)"
   ]
  },
  {
   "cell_type": "markdown",
   "id": "96381889",
   "metadata": {},
   "source": [
    "- search_point / veiw_count & review_count\n",
    "> 총 2그룹으로 나누어 평가"
   ]
  },
  {
   "cell_type": "markdown",
   "id": "12b6d0fb",
   "metadata": {},
   "source": [
    "## search_point(별점)"
   ]
  },
  {
   "cell_type": "code",
   "execution_count": 11,
   "id": "2ad74932",
   "metadata": {
    "ExecuteTime": {
     "end_time": "2021-12-05T06:34:41.252143Z",
     "start_time": "2021-12-05T06:34:40.986764Z"
    },
    "scrolled": false
   },
   "outputs": [
    {
     "data": {
      "image/png": "[encoded data removed]",
      "text/plain": [
       "<Figure size 864x576 with 1 Axes>"
      ]
     },
     "metadata": {
      "needs_background": "light"
     },
     "output_type": "display_data"
    }
   ],
   "source": [
    "# search_point hist\n",
    "plt.figure(figsize=(12,8))\n",
    "plt.hist(df[\"view_count\"], bins=5)\n",
    "plt.show()"
   ]
  },
  {
   "cell_type": "code",
   "execution_count": 12,
   "id": "6317493f",
   "metadata": {
    "ExecuteTime": {
     "end_time": "2021-12-05T06:34:41.361850Z",
     "start_time": "2021-12-05T06:34:41.317968Z"
    }
   },
   "outputs": [],
   "source": [
    "# 별점이 존재하는 식당만 인덱싱\n",
    "df_point = df[df['search_point'] != 0]"
   ]
  },
  {
   "cell_type": "code",
   "execution_count": 13,
   "id": "d992a36c",
   "metadata": {
    "ExecuteTime": {
     "end_time": "2021-12-05T06:34:41.501476Z",
     "start_time": "2021-12-05T06:34:41.459592Z"
    }
   },
   "outputs": [
    {
     "data": {
      "text/html": [
       "<div>\n",
       "<style scoped>\n",
       "    .dataframe tbody tr th:only-of-type {\n",
       "        vertical-align: middle;\n",
       "    }\n",
       "\n",
       "    .dataframe tbody tr th {\n",
       "        vertical-align: top;\n",
       "    }\n",
       "\n",
       "    .dataframe thead th {\n",
       "        text-align: right;\n",
       "    }\n",
       "</style>\n",
       "<table border=\"1\" class=\"dataframe\">\n",
       "  <thead>\n",
       "    <tr style=\"text-align: right;\">\n",
       "      <th></th>\n",
       "      <th>search_point</th>\n",
       "      <th>view_count</th>\n",
       "      <th>review_count</th>\n",
       "    </tr>\n",
       "  </thead>\n",
       "  <tbody>\n",
       "    <tr>\n",
       "      <th>count</th>\n",
       "      <td>102.000000</td>\n",
       "      <td>102.000000</td>\n",
       "      <td>102.000000</td>\n",
       "    </tr>\n",
       "    <tr>\n",
       "      <th>mean</th>\n",
       "      <td>3.835294</td>\n",
       "      <td>26151.215686</td>\n",
       "      <td>30.578431</td>\n",
       "    </tr>\n",
       "    <tr>\n",
       "      <th>std</th>\n",
       "      <td>0.295393</td>\n",
       "      <td>37769.065964</td>\n",
       "      <td>43.384634</td>\n",
       "    </tr>\n",
       "    <tr>\n",
       "      <th>min</th>\n",
       "      <td>3.100000</td>\n",
       "      <td>973.000000</td>\n",
       "      <td>4.000000</td>\n",
       "    </tr>\n",
       "    <tr>\n",
       "      <th>25%</th>\n",
       "      <td>3.625000</td>\n",
       "      <td>6065.750000</td>\n",
       "      <td>10.000000</td>\n",
       "    </tr>\n",
       "    <tr>\n",
       "      <th>50%</th>\n",
       "      <td>3.800000</td>\n",
       "      <td>15172.000000</td>\n",
       "      <td>14.000000</td>\n",
       "    </tr>\n",
       "    <tr>\n",
       "      <th>75%</th>\n",
       "      <td>4.000000</td>\n",
       "      <td>31325.500000</td>\n",
       "      <td>33.000000</td>\n",
       "    </tr>\n",
       "    <tr>\n",
       "      <th>max</th>\n",
       "      <td>4.500000</td>\n",
       "      <td>297917.000000</td>\n",
       "      <td>286.000000</td>\n",
       "    </tr>\n",
       "  </tbody>\n",
       "</table>\n",
       "</div>"
      ],
      "text/plain": [
       "       search_point     view_count  review_count\n",
       "count    102.000000     102.000000    102.000000\n",
       "mean       3.835294   26151.215686     30.578431\n",
       "std        0.295393   37769.065964     43.384634\n",
       "min        3.100000     973.000000      4.000000\n",
       "25%        3.625000    6065.750000     10.000000\n",
       "50%        3.800000   15172.000000     14.000000\n",
       "75%        4.000000   31325.500000     33.000000\n",
       "max        4.500000  297917.000000    286.000000"
      ]
     },
     "execution_count": 13,
     "metadata": {},
     "output_type": "execute_result"
    }
   ],
   "source": [
    "# 별점이 있는 식당의 분포\n",
    "df_point.describe()"
   ]
  },
  {
   "cell_type": "code",
   "execution_count": 14,
   "id": "082e1f98",
   "metadata": {
    "ExecuteTime": {
     "end_time": "2021-12-05T06:34:42.071193Z",
     "start_time": "2021-12-05T06:34:41.600744Z"
    }
   },
   "outputs": [
    {
     "name": "stderr",
     "output_type": "stream",
     "text": [
      "C:\\ProgramData\\Anaconda3\\lib\\site-packages\\seaborn\\_decorators.py:36: FutureWarning: Pass the following variable as a keyword arg: x. From version 0.12, the only valid positional argument will be `data`, and passing other arguments without an explicit keyword will result in an error or misinterpretation.\n",
      "  warnings.warn(\n"
     ]
    },
    {
     "data": {
      "text/plain": [
       "<AxesSubplot:xlabel='search_point', ylabel='count'>"
      ]
     },
     "execution_count": 14,
     "metadata": {},
     "output_type": "execute_result"
    },
    {
     "data": {
      "image/png": "[encoded data removed]",
      "text/plain": [
       "<Figure size 864x432 with 1 Axes>"
      ]
     },
     "metadata": {
      "needs_background": "light"
     },
     "output_type": "display_data"
    }
   ],
   "source": [
    "# 별점 countplot\n",
    "plt.figure(figsize=(12, 6))\n",
    "sns.countplot(df_point['search_point'])"
   ]
  },
  {
   "cell_type": "code",
   "execution_count": 15,
   "id": "6a0f7832",
   "metadata": {
    "ExecuteTime": {
     "end_time": "2021-12-05T06:34:42.526786Z",
     "start_time": "2021-12-05T06:34:42.155965Z"
    }
   },
   "outputs": [
    {
     "name": "stderr",
     "output_type": "stream",
     "text": [
      "C:\\ProgramData\\Anaconda3\\lib\\site-packages\\seaborn\\distributions.py:2557: FutureWarning: `distplot` is a deprecated function and will be removed in a future version. Please adapt your code to use either `displot` (a figure-level function with similar flexibility) or `histplot` (an axes-level function for histograms).\n",
      "  warnings.warn(msg, FutureWarning)\n"
     ]
    },
    {
     "data": {
      "text/plain": [
       "<AxesSubplot:xlabel='search_point', ylabel='Density'>"
      ]
     },
     "execution_count": 15,
     "metadata": {},
     "output_type": "execute_result"
    },
    {
     "data": {
      "image/png": "[encoded data removed]",
      "text/plain": [
       "<Figure size 864x432 with 1 Axes>"
      ]
     },
     "metadata": {
      "needs_background": "light"
     },
     "output_type": "display_data"
    }
   ],
   "source": [
    "# 별점 distplot\n",
    "plt.figure(figsize=(12, 6))\n",
    "sns.distplot(df_point['search_point'], bins=15)"
   ]
  },
  {
   "cell_type": "markdown",
   "id": "196b38c8",
   "metadata": {},
   "source": [
    "- 기준(30점) : 최상위권 별점 > 상위권 별점 > 평균 별점 > nan값 > 하위권 별점\n",
    "- 총 1143건 중 102건의 별점을 가진 식당 존재 \n",
    "- 평균 : 3.84 점\n",
    "- Q1 : 3.63 점 (0 점수)\n",
    "- Q2 : 3.8 점 (+ 점수)\n",
    "- Q3 : 4 점 (++ 점수)\n",
    "- 최고 기준 : 4.4 점 (+++점수)\n",
    "\n",
    "최종 결과(30점) : \n",
    ">- 최상위권 별점(4.4 이상 - 30점)\n",
    ">- 상위권 별점(4.1 이상 - 25점)\n",
    ">- 평균 별점(3.8 이상 - 20점)\n",
    ">- nan값 (15 점)\n",
    ">- 하위권 별점 (3.6 미만 - 12점)\n",
    "\n",
    "문제 - 3.6 이상 3.8 미만의 가게? 12점 ~ 20점(8점)의 차이"
   ]
  },
  {
   "cell_type": "code",
   "execution_count": 36,
   "id": "d342b194",
   "metadata": {
    "ExecuteTime": {
     "end_time": "2021-12-05T06:45:09.626359Z",
     "start_time": "2021-12-05T06:45:09.601216Z"
    }
   },
   "outputs": [
    {
     "data": {
      "text/html": [
       "<div>\n",
       "<style scoped>\n",
       "    .dataframe tbody tr th:only-of-type {\n",
       "        vertical-align: middle;\n",
       "    }\n",
       "\n",
       "    .dataframe tbody tr th {\n",
       "        vertical-align: top;\n",
       "    }\n",
       "\n",
       "    .dataframe thead th {\n",
       "        text-align: right;\n",
       "    }\n",
       "</style>\n",
       "<table border=\"1\" class=\"dataframe\">\n",
       "  <thead>\n",
       "    <tr style=\"text-align: right;\">\n",
       "      <th></th>\n",
       "      <th>title</th>\n",
       "      <th>search_point</th>\n",
       "      <th>etc</th>\n",
       "      <th>view_count</th>\n",
       "      <th>review_count</th>\n",
       "      <th>address</th>\n",
       "      <th>dongname</th>\n",
       "      <th>score_search_point</th>\n",
       "    </tr>\n",
       "  </thead>\n",
       "  <tbody>\n",
       "    <tr>\n",
       "      <th>0</th>\n",
       "      <td>모녀가리비</td>\n",
       "      <td>4.5</td>\n",
       "      <td>강원 속초시 - 해산물 요리</td>\n",
       "      <td>4174</td>\n",
       "      <td>10</td>\n",
       "      <td>강원도 속초시 대포동 964-13</td>\n",
       "      <td>강원도 속초시 대포동</td>\n",
       "      <td>0.0</td>\n",
       "    </tr>\n",
       "    <tr>\n",
       "      <th>1</th>\n",
       "      <td>속초붉은대게수산</td>\n",
       "      <td>4.4</td>\n",
       "      <td>강원 속초시 - 해산물 요리</td>\n",
       "      <td>34739</td>\n",
       "      <td>17</td>\n",
       "      <td>강원도 속초시 중앙동 472-5</td>\n",
       "      <td>강원도 속초시 중앙동</td>\n",
       "      <td>0.0</td>\n",
       "    </tr>\n",
       "    <tr>\n",
       "      <th>2</th>\n",
       "      <td>단천식당</td>\n",
       "      <td>4.3</td>\n",
       "      <td>강원 속초시 - 탕 / 찌개 / 전골</td>\n",
       "      <td>30457</td>\n",
       "      <td>38</td>\n",
       "      <td>강원도 속초시 청호동 842</td>\n",
       "      <td>강원도 속초시 청호동</td>\n",
       "      <td>0.0</td>\n",
       "    </tr>\n",
       "    <tr>\n",
       "      <th>3</th>\n",
       "      <td>왕박골식당</td>\n",
       "      <td>4.3</td>\n",
       "      <td>강원 속초시 - 국수 / 면 요리</td>\n",
       "      <td>24858</td>\n",
       "      <td>14</td>\n",
       "      <td>강원도 속초시 장사동 525-3</td>\n",
       "      <td>강원도 속초시 장사동</td>\n",
       "      <td>0.0</td>\n",
       "    </tr>\n",
       "    <tr>\n",
       "      <th>4</th>\n",
       "      <td>속초751샌드위치</td>\n",
       "      <td>4.3</td>\n",
       "      <td>강원 속초시 - 브런치 / 버거 / 샌드위치</td>\n",
       "      <td>16463</td>\n",
       "      <td>14</td>\n",
       "      <td>강원도 속초시 교동 780-55</td>\n",
       "      <td>강원도 속초시 교동</td>\n",
       "      <td>0.0</td>\n",
       "    </tr>\n",
       "  </tbody>\n",
       "</table>\n",
       "</div>"
      ],
      "text/plain": [
       "       title  search_point                       etc  view_count  \\\n",
       "0      모녀가리비           4.5           강원 속초시 - 해산물 요리        4174   \n",
       "1   속초붉은대게수산           4.4           강원 속초시 - 해산물 요리       34739   \n",
       "2       단천식당           4.3      강원 속초시 - 탕 / 찌개 / 전골       30457   \n",
       "3      왕박골식당           4.3        강원 속초시 - 국수 / 면 요리       24858   \n",
       "4  속초751샌드위치           4.3  강원 속초시 - 브런치 / 버거 / 샌드위치       16463   \n",
       "\n",
       "   review_count             address     dongname  score_search_point  \n",
       "0            10  강원도 속초시 대포동 964-13  강원도 속초시 대포동                 0.0  \n",
       "1            17   강원도 속초시 중앙동 472-5  강원도 속초시 중앙동                 0.0  \n",
       "2            38     강원도 속초시 청호동 842  강원도 속초시 청호동                 0.0  \n",
       "3            14   강원도 속초시 장사동 525-3  강원도 속초시 장사동                 0.0  \n",
       "4            14   강원도 속초시 교동 780-55   강원도 속초시 교동                 0.0  "
      ]
     },
     "execution_count": 36,
     "metadata": {},
     "output_type": "execute_result"
    }
   ],
   "source": [
    "# 별점 점수 부여\n",
    "df[\"score_search_point\"] = float(0)\n",
    "df.head()"
   ]
  },
  {
   "cell_type": "code",
   "execution_count": 84,
   "id": "ecaff693",
   "metadata": {
    "ExecuteTime": {
     "end_time": "2021-12-05T07:09:14.428643Z",
     "start_time": "2021-12-05T07:09:14.424471Z"
    }
   },
   "outputs": [],
   "source": [
    "# score 함수 생성\n",
    "def score_search_point(data):\n",
    "    if data >= 4.4:\n",
    "        return 30\n",
    "    elif (data < 4.4) & (data >= 4.1):\n",
    "        return 25\n",
    "    elif (data < 4.1) & (data >= 3.8):\n",
    "        return 20\n",
    "    elif (data < 3.6) & (data >= 3.1):\n",
    "        return 12\n",
    "    else:\n",
    "        return 15"
   ]
  },
  {
   "cell_type": "code",
   "execution_count": 85,
   "id": "abf47937",
   "metadata": {
    "ExecuteTime": {
     "end_time": "2021-12-05T07:09:16.892904Z",
     "start_time": "2021-12-05T07:09:16.870195Z"
    }
   },
   "outputs": [
    {
     "data": {
      "text/plain": [
       "0       30\n",
       "1       30\n",
       "2       25\n",
       "3       25\n",
       "4       25\n",
       "        ..\n",
       "1138    15\n",
       "1139    15\n",
       "1140    15\n",
       "1141    15\n",
       "1142    15\n",
       "Name: score_search_point, Length: 1143, dtype: int64"
      ]
     },
     "execution_count": 85,
     "metadata": {},
     "output_type": "execute_result"
    }
   ],
   "source": [
    "# 실행\n",
    "df[\"score_search_point\"] = df[\"search_point\"].apply(score_search_point)\n",
    "df[\"score_search_point\"]"
   ]
  },
  {
   "cell_type": "code",
   "execution_count": 86,
   "id": "52ec3e8b",
   "metadata": {
    "ExecuteTime": {
     "end_time": "2021-12-05T07:09:20.726513Z",
     "start_time": "2021-12-05T07:09:20.700585Z"
    }
   },
   "outputs": [
    {
     "data": {
      "text/html": [
       "<div>\n",
       "<style scoped>\n",
       "    .dataframe tbody tr th:only-of-type {\n",
       "        vertical-align: middle;\n",
       "    }\n",
       "\n",
       "    .dataframe tbody tr th {\n",
       "        vertical-align: top;\n",
       "    }\n",
       "\n",
       "    .dataframe thead th {\n",
       "        text-align: right;\n",
       "    }\n",
       "</style>\n",
       "<table border=\"1\" class=\"dataframe\">\n",
       "  <thead>\n",
       "    <tr style=\"text-align: right;\">\n",
       "      <th></th>\n",
       "      <th>title</th>\n",
       "      <th>search_point</th>\n",
       "      <th>etc</th>\n",
       "      <th>view_count</th>\n",
       "      <th>review_count</th>\n",
       "      <th>address</th>\n",
       "      <th>dongname</th>\n",
       "      <th>score_search_point</th>\n",
       "      <th>score_view_count</th>\n",
       "    </tr>\n",
       "  </thead>\n",
       "  <tbody>\n",
       "    <tr>\n",
       "      <th>0</th>\n",
       "      <td>모녀가리비</td>\n",
       "      <td>4.5</td>\n",
       "      <td>강원 속초시 - 해산물 요리</td>\n",
       "      <td>4174</td>\n",
       "      <td>10</td>\n",
       "      <td>강원도 속초시 대포동 964-13</td>\n",
       "      <td>강원도 속초시 대포동</td>\n",
       "      <td>30</td>\n",
       "      <td>7</td>\n",
       "    </tr>\n",
       "    <tr>\n",
       "      <th>1</th>\n",
       "      <td>속초붉은대게수산</td>\n",
       "      <td>4.4</td>\n",
       "      <td>강원 속초시 - 해산물 요리</td>\n",
       "      <td>34739</td>\n",
       "      <td>17</td>\n",
       "      <td>강원도 속초시 중앙동 472-5</td>\n",
       "      <td>강원도 속초시 중앙동</td>\n",
       "      <td>30</td>\n",
       "      <td>10</td>\n",
       "    </tr>\n",
       "    <tr>\n",
       "      <th>2</th>\n",
       "      <td>단천식당</td>\n",
       "      <td>4.3</td>\n",
       "      <td>강원 속초시 - 탕 / 찌개 / 전골</td>\n",
       "      <td>30457</td>\n",
       "      <td>38</td>\n",
       "      <td>강원도 속초시 청호동 842</td>\n",
       "      <td>강원도 속초시 청호동</td>\n",
       "      <td>25</td>\n",
       "      <td>10</td>\n",
       "    </tr>\n",
       "    <tr>\n",
       "      <th>3</th>\n",
       "      <td>왕박골식당</td>\n",
       "      <td>4.3</td>\n",
       "      <td>강원 속초시 - 국수 / 면 요리</td>\n",
       "      <td>24858</td>\n",
       "      <td>14</td>\n",
       "      <td>강원도 속초시 장사동 525-3</td>\n",
       "      <td>강원도 속초시 장사동</td>\n",
       "      <td>25</td>\n",
       "      <td>10</td>\n",
       "    </tr>\n",
       "    <tr>\n",
       "      <th>4</th>\n",
       "      <td>속초751샌드위치</td>\n",
       "      <td>4.3</td>\n",
       "      <td>강원 속초시 - 브런치 / 버거 / 샌드위치</td>\n",
       "      <td>16463</td>\n",
       "      <td>14</td>\n",
       "      <td>강원도 속초시 교동 780-55</td>\n",
       "      <td>강원도 속초시 교동</td>\n",
       "      <td>25</td>\n",
       "      <td>10</td>\n",
       "    </tr>\n",
       "    <tr>\n",
       "      <th>...</th>\n",
       "      <td>...</td>\n",
       "      <td>...</td>\n",
       "      <td>...</td>\n",
       "      <td>...</td>\n",
       "      <td>...</td>\n",
       "      <td>...</td>\n",
       "      <td>...</td>\n",
       "      <td>...</td>\n",
       "      <td>...</td>\n",
       "    </tr>\n",
       "    <tr>\n",
       "      <th>1138</th>\n",
       "      <td>해바라기식당</td>\n",
       "      <td>0.0</td>\n",
       "      <td>강원 고성군 - 해산물 요리</td>\n",
       "      <td>119</td>\n",
       "      <td>0</td>\n",
       "      <td>강원도 고성군 거진읍 거진리 29-3</td>\n",
       "      <td>강원도 고성군 거진읍</td>\n",
       "      <td>15</td>\n",
       "      <td>3</td>\n",
       "    </tr>\n",
       "    <tr>\n",
       "      <th>1139</th>\n",
       "      <td>메트로폴리스</td>\n",
       "      <td>0.0</td>\n",
       "      <td>강원 고성군 - 카페 / 디저트</td>\n",
       "      <td>119</td>\n",
       "      <td>0</td>\n",
       "      <td>강원도 고성군 죽왕면 문암진리 81-25</td>\n",
       "      <td>강원도 고성군 죽왕면</td>\n",
       "      <td>15</td>\n",
       "      <td>3</td>\n",
       "    </tr>\n",
       "    <tr>\n",
       "      <th>1140</th>\n",
       "      <td>BBQ치킨(고성대진점)</td>\n",
       "      <td>0.0</td>\n",
       "      <td>강원 고성군 - 닭 / 오리 요리</td>\n",
       "      <td>117</td>\n",
       "      <td>0</td>\n",
       "      <td>강원도 고성군 현내면 대진리 111-7</td>\n",
       "      <td>강원도 고성군 현내면</td>\n",
       "      <td>15</td>\n",
       "      <td>3</td>\n",
       "    </tr>\n",
       "    <tr>\n",
       "      <th>1141</th>\n",
       "      <td>일차돌(고성점)</td>\n",
       "      <td>0.0</td>\n",
       "      <td>강원 고성군 - 고기 요리</td>\n",
       "      <td>104</td>\n",
       "      <td>0</td>\n",
       "      <td>강원도 고성군 간성읍 신안리 248-2</td>\n",
       "      <td>강원도 고성군 간성읍</td>\n",
       "      <td>15</td>\n",
       "      <td>3</td>\n",
       "    </tr>\n",
       "    <tr>\n",
       "      <th>1142</th>\n",
       "      <td>올라</td>\n",
       "      <td>0.0</td>\n",
       "      <td>강원 고성군 - 카페 / 디저트</td>\n",
       "      <td>104</td>\n",
       "      <td>0</td>\n",
       "      <td>강원도 고성군 토성면 천진리 110</td>\n",
       "      <td>강원도 고성군 토성면</td>\n",
       "      <td>15</td>\n",
       "      <td>3</td>\n",
       "    </tr>\n",
       "  </tbody>\n",
       "</table>\n",
       "<p>1143 rows × 9 columns</p>\n",
       "</div>"
      ],
      "text/plain": [
       "             title  search_point                       etc  view_count  \\\n",
       "0            모녀가리비           4.5           강원 속초시 - 해산물 요리        4174   \n",
       "1         속초붉은대게수산           4.4           강원 속초시 - 해산물 요리       34739   \n",
       "2             단천식당           4.3      강원 속초시 - 탕 / 찌개 / 전골       30457   \n",
       "3            왕박골식당           4.3        강원 속초시 - 국수 / 면 요리       24858   \n",
       "4        속초751샌드위치           4.3  강원 속초시 - 브런치 / 버거 / 샌드위치       16463   \n",
       "...            ...           ...                       ...         ...   \n",
       "1138        해바라기식당           0.0           강원 고성군 - 해산물 요리         119   \n",
       "1139        메트로폴리스           0.0         강원 고성군 - 카페 / 디저트         119   \n",
       "1140  BBQ치킨(고성대진점)           0.0        강원 고성군 - 닭 / 오리 요리         117   \n",
       "1141      일차돌(고성점)           0.0            강원 고성군 - 고기 요리         104   \n",
       "1142            올라           0.0         강원 고성군 - 카페 / 디저트         104   \n",
       "\n",
       "      review_count                 address     dongname  score_search_point  \\\n",
       "0               10      강원도 속초시 대포동 964-13  강원도 속초시 대포동                  30   \n",
       "1               17       강원도 속초시 중앙동 472-5  강원도 속초시 중앙동                  30   \n",
       "2               38         강원도 속초시 청호동 842  강원도 속초시 청호동                  25   \n",
       "3               14       강원도 속초시 장사동 525-3  강원도 속초시 장사동                  25   \n",
       "4               14       강원도 속초시 교동 780-55   강원도 속초시 교동                  25   \n",
       "...            ...                     ...          ...                 ...   \n",
       "1138             0    강원도 고성군 거진읍 거진리 29-3  강원도 고성군 거진읍                  15   \n",
       "1139             0  강원도 고성군 죽왕면 문암진리 81-25  강원도 고성군 죽왕면                  15   \n",
       "1140             0   강원도 고성군 현내면 대진리 111-7  강원도 고성군 현내면                  15   \n",
       "1141             0   강원도 고성군 간성읍 신안리 248-2  강원도 고성군 간성읍                  15   \n",
       "1142             0     강원도 고성군 토성면 천진리 110  강원도 고성군 토성면                  15   \n",
       "\n",
       "      score_view_count  \n",
       "0                    7  \n",
       "1                   10  \n",
       "2                   10  \n",
       "3                   10  \n",
       "4                   10  \n",
       "...                ...  \n",
       "1138                 3  \n",
       "1139                 3  \n",
       "1140                 3  \n",
       "1141                 3  \n",
       "1142                 3  \n",
       "\n",
       "[1143 rows x 9 columns]"
      ]
     },
     "execution_count": 86,
     "metadata": {},
     "output_type": "execute_result"
    }
   ],
   "source": [
    "# 확인\n",
    "df"
   ]
  },
  {
   "cell_type": "markdown",
   "id": "5fa4579e",
   "metadata": {},
   "source": [
    "## view_count(뷰)"
   ]
  },
  {
   "cell_type": "code",
   "execution_count": 87,
   "id": "e87843f6",
   "metadata": {
    "ExecuteTime": {
     "end_time": "2021-12-05T07:09:22.072287Z",
     "start_time": "2021-12-05T07:09:22.049308Z"
    }
   },
   "outputs": [
    {
     "data": {
      "text/html": [
       "<div>\n",
       "<style scoped>\n",
       "    .dataframe tbody tr th:only-of-type {\n",
       "        vertical-align: middle;\n",
       "    }\n",
       "\n",
       "    .dataframe tbody tr th {\n",
       "        vertical-align: top;\n",
       "    }\n",
       "\n",
       "    .dataframe thead th {\n",
       "        text-align: right;\n",
       "    }\n",
       "</style>\n",
       "<table border=\"1\" class=\"dataframe\">\n",
       "  <thead>\n",
       "    <tr style=\"text-align: right;\">\n",
       "      <th></th>\n",
       "      <th>search_point</th>\n",
       "      <th>view_count</th>\n",
       "      <th>review_count</th>\n",
       "      <th>score_search_point</th>\n",
       "      <th>score_view_count</th>\n",
       "    </tr>\n",
       "  </thead>\n",
       "  <tbody>\n",
       "    <tr>\n",
       "      <th>count</th>\n",
       "      <td>1143.000000</td>\n",
       "      <td>1143.000000</td>\n",
       "      <td>1143.000000</td>\n",
       "      <td>1143.000000</td>\n",
       "      <td>1143.000000</td>\n",
       "    </tr>\n",
       "    <tr>\n",
       "      <th>mean</th>\n",
       "      <td>0.342257</td>\n",
       "      <td>3595.352581</td>\n",
       "      <td>3.805774</td>\n",
       "      <td>15.358705</td>\n",
       "      <td>4.688539</td>\n",
       "    </tr>\n",
       "    <tr>\n",
       "      <th>std</th>\n",
       "      <td>1.097397</td>\n",
       "      <td>13379.869446</td>\n",
       "      <td>15.477482</td>\n",
       "      <td>1.790941</td>\n",
       "      <td>2.029796</td>\n",
       "    </tr>\n",
       "    <tr>\n",
       "      <th>min</th>\n",
       "      <td>0.000000</td>\n",
       "      <td>4.000000</td>\n",
       "      <td>0.000000</td>\n",
       "      <td>12.000000</td>\n",
       "      <td>3.000000</td>\n",
       "    </tr>\n",
       "    <tr>\n",
       "      <th>25%</th>\n",
       "      <td>0.000000</td>\n",
       "      <td>558.000000</td>\n",
       "      <td>0.000000</td>\n",
       "      <td>15.000000</td>\n",
       "      <td>3.000000</td>\n",
       "    </tr>\n",
       "    <tr>\n",
       "      <th>50%</th>\n",
       "      <td>0.000000</td>\n",
       "      <td>1000.000000</td>\n",
       "      <td>1.000000</td>\n",
       "      <td>15.000000</td>\n",
       "      <td>5.000000</td>\n",
       "    </tr>\n",
       "    <tr>\n",
       "      <th>75%</th>\n",
       "      <td>0.000000</td>\n",
       "      <td>2046.000000</td>\n",
       "      <td>2.000000</td>\n",
       "      <td>15.000000</td>\n",
       "      <td>7.000000</td>\n",
       "    </tr>\n",
       "    <tr>\n",
       "      <th>max</th>\n",
       "      <td>4.500000</td>\n",
       "      <td>297917.000000</td>\n",
       "      <td>286.000000</td>\n",
       "      <td>30.000000</td>\n",
       "      <td>10.000000</td>\n",
       "    </tr>\n",
       "  </tbody>\n",
       "</table>\n",
       "</div>"
      ],
      "text/plain": [
       "       search_point     view_count  review_count  score_search_point  \\\n",
       "count   1143.000000    1143.000000   1143.000000         1143.000000   \n",
       "mean       0.342257    3595.352581      3.805774           15.358705   \n",
       "std        1.097397   13379.869446     15.477482            1.790941   \n",
       "min        0.000000       4.000000      0.000000           12.000000   \n",
       "25%        0.000000     558.000000      0.000000           15.000000   \n",
       "50%        0.000000    1000.000000      1.000000           15.000000   \n",
       "75%        0.000000    2046.000000      2.000000           15.000000   \n",
       "max        4.500000  297917.000000    286.000000           30.000000   \n",
       "\n",
       "       score_view_count  \n",
       "count       1143.000000  \n",
       "mean           4.688539  \n",
       "std            2.029796  \n",
       "min            3.000000  \n",
       "25%            3.000000  \n",
       "50%            5.000000  \n",
       "75%            7.000000  \n",
       "max           10.000000  "
      ]
     },
     "execution_count": 87,
     "metadata": {},
     "output_type": "execute_result"
    }
   ],
   "source": [
    "df.describe()"
   ]
  },
  {
   "cell_type": "code",
   "execution_count": 88,
   "id": "23341d86",
   "metadata": {
    "ExecuteTime": {
     "end_time": "2021-12-05T07:09:22.373835Z",
     "start_time": "2021-12-05T07:09:22.199598Z"
    }
   },
   "outputs": [
    {
     "data": {
      "image/png": "[encoded data removed]",
      "text/plain": [
       "<Figure size 864x576 with 1 Axes>"
      ]
     },
     "metadata": {
      "needs_background": "light"
     },
     "output_type": "display_data"
    }
   ],
   "source": [
    "# view_count hist\n",
    "plt.figure(figsize=(12,8))\n",
    "plt.hist(df[\"view_count\"], bins=5)\n",
    "plt.show()"
   ]
  },
  {
   "cell_type": "code",
   "execution_count": 89,
   "id": "9dd37a3c",
   "metadata": {
    "ExecuteTime": {
     "end_time": "2021-12-05T07:09:22.737265Z",
     "start_time": "2021-12-05T07:09:22.470547Z"
    }
   },
   "outputs": [
    {
     "name": "stderr",
     "output_type": "stream",
     "text": [
      "C:\\ProgramData\\Anaconda3\\lib\\site-packages\\seaborn\\distributions.py:2557: FutureWarning: `distplot` is a deprecated function and will be removed in a future version. Please adapt your code to use either `displot` (a figure-level function with similar flexibility) or `histplot` (an axes-level function for histograms).\n",
      "  warnings.warn(msg, FutureWarning)\n"
     ]
    },
    {
     "data": {
      "text/plain": [
       "<AxesSubplot:xlabel='view_count', ylabel='Density'>"
      ]
     },
     "execution_count": 89,
     "metadata": {},
     "output_type": "execute_result"
    },
    {
     "data": {
      "image/png": "[encoded data removed]",
      "text/plain": [
       "<Figure size 864x432 with 1 Axes>"
      ]
     },
     "metadata": {
      "needs_background": "light"
     },
     "output_type": "display_data"
    }
   ],
   "source": [
    "# view_count distplot\n",
    "plt.figure(figsize=(12, 6))\n",
    "sns.distplot(df['view_count'])"
   ]
  },
  {
   "cell_type": "code",
   "execution_count": 90,
   "id": "e6663fc2",
   "metadata": {
    "ExecuteTime": {
     "end_time": "2021-12-05T07:09:22.879925Z",
     "start_time": "2021-12-05T07:09:22.849964Z"
    }
   },
   "outputs": [
    {
     "data": {
      "text/html": [
       "<div>\n",
       "<style scoped>\n",
       "    .dataframe tbody tr th:only-of-type {\n",
       "        vertical-align: middle;\n",
       "    }\n",
       "\n",
       "    .dataframe tbody tr th {\n",
       "        vertical-align: top;\n",
       "    }\n",
       "\n",
       "    .dataframe thead th {\n",
       "        text-align: right;\n",
       "    }\n",
       "</style>\n",
       "<table border=\"1\" class=\"dataframe\">\n",
       "  <thead>\n",
       "    <tr style=\"text-align: right;\">\n",
       "      <th></th>\n",
       "      <th>search_point</th>\n",
       "      <th>view_count</th>\n",
       "      <th>review_count</th>\n",
       "      <th>score_search_point</th>\n",
       "      <th>score_view_count</th>\n",
       "    </tr>\n",
       "  </thead>\n",
       "  <tbody>\n",
       "    <tr>\n",
       "      <th>count</th>\n",
       "      <td>1143.000000</td>\n",
       "      <td>1143.000000</td>\n",
       "      <td>1143.000000</td>\n",
       "      <td>1143.000000</td>\n",
       "      <td>1143.000000</td>\n",
       "    </tr>\n",
       "    <tr>\n",
       "      <th>mean</th>\n",
       "      <td>0.342257</td>\n",
       "      <td>3595.352581</td>\n",
       "      <td>3.805774</td>\n",
       "      <td>15.358705</td>\n",
       "      <td>4.688539</td>\n",
       "    </tr>\n",
       "    <tr>\n",
       "      <th>std</th>\n",
       "      <td>1.097397</td>\n",
       "      <td>13379.869446</td>\n",
       "      <td>15.477482</td>\n",
       "      <td>1.790941</td>\n",
       "      <td>2.029796</td>\n",
       "    </tr>\n",
       "    <tr>\n",
       "      <th>min</th>\n",
       "      <td>0.000000</td>\n",
       "      <td>4.000000</td>\n",
       "      <td>0.000000</td>\n",
       "      <td>12.000000</td>\n",
       "      <td>3.000000</td>\n",
       "    </tr>\n",
       "    <tr>\n",
       "      <th>25%</th>\n",
       "      <td>0.000000</td>\n",
       "      <td>558.000000</td>\n",
       "      <td>0.000000</td>\n",
       "      <td>15.000000</td>\n",
       "      <td>3.000000</td>\n",
       "    </tr>\n",
       "    <tr>\n",
       "      <th>50%</th>\n",
       "      <td>0.000000</td>\n",
       "      <td>1000.000000</td>\n",
       "      <td>1.000000</td>\n",
       "      <td>15.000000</td>\n",
       "      <td>5.000000</td>\n",
       "    </tr>\n",
       "    <tr>\n",
       "      <th>75%</th>\n",
       "      <td>0.000000</td>\n",
       "      <td>2046.000000</td>\n",
       "      <td>2.000000</td>\n",
       "      <td>15.000000</td>\n",
       "      <td>7.000000</td>\n",
       "    </tr>\n",
       "    <tr>\n",
       "      <th>max</th>\n",
       "      <td>4.500000</td>\n",
       "      <td>297917.000000</td>\n",
       "      <td>286.000000</td>\n",
       "      <td>30.000000</td>\n",
       "      <td>10.000000</td>\n",
       "    </tr>\n",
       "  </tbody>\n",
       "</table>\n",
       "</div>"
      ],
      "text/plain": [
       "       search_point     view_count  review_count  score_search_point  \\\n",
       "count   1143.000000    1143.000000   1143.000000         1143.000000   \n",
       "mean       0.342257    3595.352581      3.805774           15.358705   \n",
       "std        1.097397   13379.869446     15.477482            1.790941   \n",
       "min        0.000000       4.000000      0.000000           12.000000   \n",
       "25%        0.000000     558.000000      0.000000           15.000000   \n",
       "50%        0.000000    1000.000000      1.000000           15.000000   \n",
       "75%        0.000000    2046.000000      2.000000           15.000000   \n",
       "max        4.500000  297917.000000    286.000000           30.000000   \n",
       "\n",
       "       score_view_count  \n",
       "count       1143.000000  \n",
       "mean           4.688539  \n",
       "std            2.029796  \n",
       "min            3.000000  \n",
       "25%            3.000000  \n",
       "50%            5.000000  \n",
       "75%            7.000000  \n",
       "max           10.000000  "
      ]
     },
     "execution_count": 90,
     "metadata": {},
     "output_type": "execute_result"
    }
   ],
   "source": [
    "df.describe()"
   ]
  },
  {
   "cell_type": "code",
   "execution_count": 91,
   "id": "399d2f50",
   "metadata": {
    "ExecuteTime": {
     "end_time": "2021-12-05T07:09:23.052876Z",
     "start_time": "2021-12-05T07:09:23.010991Z"
    }
   },
   "outputs": [
    {
     "data": {
      "text/html": [
       "<div>\n",
       "<style scoped>\n",
       "    .dataframe tbody tr th:only-of-type {\n",
       "        vertical-align: middle;\n",
       "    }\n",
       "\n",
       "    .dataframe tbody tr th {\n",
       "        vertical-align: top;\n",
       "    }\n",
       "\n",
       "    .dataframe thead th {\n",
       "        text-align: right;\n",
       "    }\n",
       "</style>\n",
       "<table border=\"1\" class=\"dataframe\">\n",
       "  <thead>\n",
       "    <tr style=\"text-align: right;\">\n",
       "      <th></th>\n",
       "      <th>title</th>\n",
       "      <th>search_point</th>\n",
       "      <th>etc</th>\n",
       "      <th>view_count</th>\n",
       "      <th>review_count</th>\n",
       "      <th>address</th>\n",
       "      <th>dongname</th>\n",
       "      <th>score_search_point</th>\n",
       "      <th>score_view_count</th>\n",
       "    </tr>\n",
       "  </thead>\n",
       "  <tbody>\n",
       "    <tr>\n",
       "      <th>0</th>\n",
       "      <td>모녀가리비</td>\n",
       "      <td>4.5</td>\n",
       "      <td>강원 속초시 - 해산물 요리</td>\n",
       "      <td>4174</td>\n",
       "      <td>10</td>\n",
       "      <td>강원도 속초시 대포동 964-13</td>\n",
       "      <td>강원도 속초시 대포동</td>\n",
       "      <td>30</td>\n",
       "      <td>7</td>\n",
       "    </tr>\n",
       "    <tr>\n",
       "      <th>1</th>\n",
       "      <td>속초붉은대게수산</td>\n",
       "      <td>4.4</td>\n",
       "      <td>강원 속초시 - 해산물 요리</td>\n",
       "      <td>34739</td>\n",
       "      <td>17</td>\n",
       "      <td>강원도 속초시 중앙동 472-5</td>\n",
       "      <td>강원도 속초시 중앙동</td>\n",
       "      <td>30</td>\n",
       "      <td>10</td>\n",
       "    </tr>\n",
       "    <tr>\n",
       "      <th>2</th>\n",
       "      <td>단천식당</td>\n",
       "      <td>4.3</td>\n",
       "      <td>강원 속초시 - 탕 / 찌개 / 전골</td>\n",
       "      <td>30457</td>\n",
       "      <td>38</td>\n",
       "      <td>강원도 속초시 청호동 842</td>\n",
       "      <td>강원도 속초시 청호동</td>\n",
       "      <td>25</td>\n",
       "      <td>10</td>\n",
       "    </tr>\n",
       "    <tr>\n",
       "      <th>3</th>\n",
       "      <td>왕박골식당</td>\n",
       "      <td>4.3</td>\n",
       "      <td>강원 속초시 - 국수 / 면 요리</td>\n",
       "      <td>24858</td>\n",
       "      <td>14</td>\n",
       "      <td>강원도 속초시 장사동 525-3</td>\n",
       "      <td>강원도 속초시 장사동</td>\n",
       "      <td>25</td>\n",
       "      <td>10</td>\n",
       "    </tr>\n",
       "    <tr>\n",
       "      <th>4</th>\n",
       "      <td>속초751샌드위치</td>\n",
       "      <td>4.3</td>\n",
       "      <td>강원 속초시 - 브런치 / 버거 / 샌드위치</td>\n",
       "      <td>16463</td>\n",
       "      <td>14</td>\n",
       "      <td>강원도 속초시 교동 780-55</td>\n",
       "      <td>강원도 속초시 교동</td>\n",
       "      <td>25</td>\n",
       "      <td>10</td>\n",
       "    </tr>\n",
       "    <tr>\n",
       "      <th>...</th>\n",
       "      <td>...</td>\n",
       "      <td>...</td>\n",
       "      <td>...</td>\n",
       "      <td>...</td>\n",
       "      <td>...</td>\n",
       "      <td>...</td>\n",
       "      <td>...</td>\n",
       "      <td>...</td>\n",
       "      <td>...</td>\n",
       "    </tr>\n",
       "    <tr>\n",
       "      <th>1001</th>\n",
       "      <td>송원</td>\n",
       "      <td>0.0</td>\n",
       "      <td>강원 고성군 - 기타 한식</td>\n",
       "      <td>2176</td>\n",
       "      <td>0</td>\n",
       "      <td>강원도 고성군 토성면 원암리 403-1</td>\n",
       "      <td>강원도 고성군 토성면</td>\n",
       "      <td>15</td>\n",
       "      <td>7</td>\n",
       "    </tr>\n",
       "    <tr>\n",
       "      <th>1013</th>\n",
       "      <td>고성한우촌</td>\n",
       "      <td>0.0</td>\n",
       "      <td>강원 고성군 - 고기 요리</td>\n",
       "      <td>2983</td>\n",
       "      <td>0</td>\n",
       "      <td>강원도 고성군 간성읍 신안리 175-5</td>\n",
       "      <td>강원도 고성군 간성읍</td>\n",
       "      <td>15</td>\n",
       "      <td>7</td>\n",
       "    </tr>\n",
       "    <tr>\n",
       "      <th>1014</th>\n",
       "      <td>최왕골족발보쌈</td>\n",
       "      <td>0.0</td>\n",
       "      <td>강원 고성군 - 고기 요리</td>\n",
       "      <td>2354</td>\n",
       "      <td>0</td>\n",
       "      <td>강원도 고성군 간성읍 신안리 247-3</td>\n",
       "      <td>강원도 고성군 간성읍</td>\n",
       "      <td>15</td>\n",
       "      <td>7</td>\n",
       "    </tr>\n",
       "    <tr>\n",
       "      <th>1015</th>\n",
       "      <td>88반점</td>\n",
       "      <td>0.0</td>\n",
       "      <td>강원 고성군 - 정통 중식 / 일반 중식</td>\n",
       "      <td>2215</td>\n",
       "      <td>0</td>\n",
       "      <td>강원도 고성군 거진읍 거진리 158-76</td>\n",
       "      <td>강원도 고성군 거진읍</td>\n",
       "      <td>15</td>\n",
       "      <td>7</td>\n",
       "    </tr>\n",
       "    <tr>\n",
       "      <th>1016</th>\n",
       "      <td>고성전통한과</td>\n",
       "      <td>0.0</td>\n",
       "      <td>강원 고성군 - 베이커리</td>\n",
       "      <td>2154</td>\n",
       "      <td>0</td>\n",
       "      <td>강원도 고성군 죽왕면 송암리 231</td>\n",
       "      <td>강원도 고성군 죽왕면</td>\n",
       "      <td>15</td>\n",
       "      <td>7</td>\n",
       "    </tr>\n",
       "  </tbody>\n",
       "</table>\n",
       "<p>286 rows × 9 columns</p>\n",
       "</div>"
      ],
      "text/plain": [
       "          title  search_point                       etc  view_count  \\\n",
       "0         모녀가리비           4.5           강원 속초시 - 해산물 요리        4174   \n",
       "1      속초붉은대게수산           4.4           강원 속초시 - 해산물 요리       34739   \n",
       "2          단천식당           4.3      강원 속초시 - 탕 / 찌개 / 전골       30457   \n",
       "3         왕박골식당           4.3        강원 속초시 - 국수 / 면 요리       24858   \n",
       "4     속초751샌드위치           4.3  강원 속초시 - 브런치 / 버거 / 샌드위치       16463   \n",
       "...         ...           ...                       ...         ...   \n",
       "1001         송원           0.0            강원 고성군 - 기타 한식        2176   \n",
       "1013      고성한우촌           0.0            강원 고성군 - 고기 요리        2983   \n",
       "1014    최왕골족발보쌈           0.0            강원 고성군 - 고기 요리        2354   \n",
       "1015       88반점           0.0    강원 고성군 - 정통 중식 / 일반 중식        2215   \n",
       "1016     고성전통한과           0.0             강원 고성군 - 베이커리        2154   \n",
       "\n",
       "      review_count                 address     dongname  score_search_point  \\\n",
       "0               10      강원도 속초시 대포동 964-13  강원도 속초시 대포동                  30   \n",
       "1               17       강원도 속초시 중앙동 472-5  강원도 속초시 중앙동                  30   \n",
       "2               38         강원도 속초시 청호동 842  강원도 속초시 청호동                  25   \n",
       "3               14       강원도 속초시 장사동 525-3  강원도 속초시 장사동                  25   \n",
       "4               14       강원도 속초시 교동 780-55   강원도 속초시 교동                  25   \n",
       "...            ...                     ...          ...                 ...   \n",
       "1001             0   강원도 고성군 토성면 원암리 403-1  강원도 고성군 토성면                  15   \n",
       "1013             0   강원도 고성군 간성읍 신안리 175-5  강원도 고성군 간성읍                  15   \n",
       "1014             0   강원도 고성군 간성읍 신안리 247-3  강원도 고성군 간성읍                  15   \n",
       "1015             0  강원도 고성군 거진읍 거진리 158-76  강원도 고성군 거진읍                  15   \n",
       "1016             0     강원도 고성군 죽왕면 송암리 231  강원도 고성군 죽왕면                  15   \n",
       "\n",
       "      score_view_count  \n",
       "0                    7  \n",
       "1                   10  \n",
       "2                   10  \n",
       "3                   10  \n",
       "4                   10  \n",
       "...                ...  \n",
       "1001                 7  \n",
       "1013                 7  \n",
       "1014                 7  \n",
       "1015                 7  \n",
       "1016                 7  \n",
       "\n",
       "[286 rows x 9 columns]"
      ]
     },
     "execution_count": 91,
     "metadata": {},
     "output_type": "execute_result"
    }
   ],
   "source": [
    "# 상위 25% 데이터 확인\n",
    "df_view_25 = df[df[\"view_count\"] > 2046]\n",
    "df_view_25"
   ]
  },
  {
   "cell_type": "code",
   "execution_count": 92,
   "id": "f7b095f2",
   "metadata": {
    "ExecuteTime": {
     "end_time": "2021-12-05T07:09:23.557339Z",
     "start_time": "2021-12-05T07:09:23.163602Z"
    }
   },
   "outputs": [
    {
     "name": "stderr",
     "output_type": "stream",
     "text": [
      "C:\\ProgramData\\Anaconda3\\lib\\site-packages\\seaborn\\distributions.py:2557: FutureWarning: `distplot` is a deprecated function and will be removed in a future version. Please adapt your code to use either `displot` (a figure-level function with similar flexibility) or `histplot` (an axes-level function for histograms).\n",
      "  warnings.warn(msg, FutureWarning)\n"
     ]
    },
    {
     "data": {
      "text/plain": [
       "<AxesSubplot:xlabel='view_count', ylabel='Density'>"
      ]
     },
     "execution_count": 92,
     "metadata": {},
     "output_type": "execute_result"
    },
    {
     "data": {
      "image/png": "[encoded data removed]",
      "text/plain": [
       "<Figure size 864x432 with 1 Axes>"
      ]
     },
     "metadata": {
      "needs_background": "light"
     },
     "output_type": "display_data"
    }
   ],
   "source": [
    "# 최상위권 뷰 distplot\n",
    "plt.figure(figsize=(12, 6))\n",
    "sns.distplot(df_view_25['view_count'], bins=100)"
   ]
  },
  {
   "cell_type": "code",
   "execution_count": 93,
   "id": "75e57c5e",
   "metadata": {
    "ExecuteTime": {
     "end_time": "2021-12-05T07:09:23.684999Z",
     "start_time": "2021-12-05T07:09:23.654080Z"
    }
   },
   "outputs": [
    {
     "data": {
      "text/html": [
       "<div>\n",
       "<style scoped>\n",
       "    .dataframe tbody tr th:only-of-type {\n",
       "        vertical-align: middle;\n",
       "    }\n",
       "\n",
       "    .dataframe tbody tr th {\n",
       "        vertical-align: top;\n",
       "    }\n",
       "\n",
       "    .dataframe thead th {\n",
       "        text-align: right;\n",
       "    }\n",
       "</style>\n",
       "<table border=\"1\" class=\"dataframe\">\n",
       "  <thead>\n",
       "    <tr style=\"text-align: right;\">\n",
       "      <th></th>\n",
       "      <th>search_point</th>\n",
       "      <th>view_count</th>\n",
       "      <th>review_count</th>\n",
       "      <th>score_search_point</th>\n",
       "      <th>score_view_count</th>\n",
       "    </tr>\n",
       "  </thead>\n",
       "  <tbody>\n",
       "    <tr>\n",
       "      <th>count</th>\n",
       "      <td>286.000000</td>\n",
       "      <td>286.000000</td>\n",
       "      <td>286.000000</td>\n",
       "      <td>286.000000</td>\n",
       "      <td>286.000000</td>\n",
       "    </tr>\n",
       "    <tr>\n",
       "      <th>mean</th>\n",
       "      <td>1.313287</td>\n",
       "      <td>11849.968531</td>\n",
       "      <td>12.839161</td>\n",
       "      <td>16.356643</td>\n",
       "      <td>7.671329</td>\n",
       "    </tr>\n",
       "    <tr>\n",
       "      <th>std</th>\n",
       "      <td>1.829897</td>\n",
       "      <td>25007.901829</td>\n",
       "      <td>29.100829</td>\n",
       "      <td>3.271151</td>\n",
       "      <td>1.252513</td>\n",
       "    </tr>\n",
       "    <tr>\n",
       "      <th>min</th>\n",
       "      <td>0.000000</td>\n",
       "      <td>2047.000000</td>\n",
       "      <td>0.000000</td>\n",
       "      <td>12.000000</td>\n",
       "      <td>7.000000</td>\n",
       "    </tr>\n",
       "    <tr>\n",
       "      <th>25%</th>\n",
       "      <td>0.000000</td>\n",
       "      <td>2700.250000</td>\n",
       "      <td>2.000000</td>\n",
       "      <td>15.000000</td>\n",
       "      <td>7.000000</td>\n",
       "    </tr>\n",
       "    <tr>\n",
       "      <th>50%</th>\n",
       "      <td>0.000000</td>\n",
       "      <td>3934.000000</td>\n",
       "      <td>5.000000</td>\n",
       "      <td>15.000000</td>\n",
       "      <td>7.000000</td>\n",
       "    </tr>\n",
       "    <tr>\n",
       "      <th>75%</th>\n",
       "      <td>3.700000</td>\n",
       "      <td>8840.750000</td>\n",
       "      <td>11.000000</td>\n",
       "      <td>15.000000</td>\n",
       "      <td>7.000000</td>\n",
       "    </tr>\n",
       "    <tr>\n",
       "      <th>max</th>\n",
       "      <td>4.500000</td>\n",
       "      <td>297917.000000</td>\n",
       "      <td>286.000000</td>\n",
       "      <td>30.000000</td>\n",
       "      <td>10.000000</td>\n",
       "    </tr>\n",
       "  </tbody>\n",
       "</table>\n",
       "</div>"
      ],
      "text/plain": [
       "       search_point     view_count  review_count  score_search_point  \\\n",
       "count    286.000000     286.000000    286.000000          286.000000   \n",
       "mean       1.313287   11849.968531     12.839161           16.356643   \n",
       "std        1.829897   25007.901829     29.100829            3.271151   \n",
       "min        0.000000    2047.000000      0.000000           12.000000   \n",
       "25%        0.000000    2700.250000      2.000000           15.000000   \n",
       "50%        0.000000    3934.000000      5.000000           15.000000   \n",
       "75%        3.700000    8840.750000     11.000000           15.000000   \n",
       "max        4.500000  297917.000000    286.000000           30.000000   \n",
       "\n",
       "       score_view_count  \n",
       "count        286.000000  \n",
       "mean           7.671329  \n",
       "std            1.252513  \n",
       "min            7.000000  \n",
       "25%            7.000000  \n",
       "50%            7.000000  \n",
       "75%            7.000000  \n",
       "max           10.000000  "
      ]
     },
     "execution_count": 93,
     "metadata": {},
     "output_type": "execute_result"
    }
   ],
   "source": [
    "df_view_25.describe()"
   ]
  },
  {
   "cell_type": "code",
   "execution_count": 94,
   "id": "422f8508",
   "metadata": {
    "ExecuteTime": {
     "end_time": "2021-12-05T07:09:23.796579Z",
     "start_time": "2021-12-05T07:09:23.781619Z"
    }
   },
   "outputs": [
    {
     "data": {
      "text/plain": [
       "16     297917\n",
       "11     130551\n",
       "17     126331\n",
       "19     106341\n",
       "9       88477\n",
       "        ...  \n",
       "902      2074\n",
       "101      2073\n",
       "938      2069\n",
       "917      2063\n",
       "514      2047\n",
       "Name: view_count, Length: 286, dtype: int32"
      ]
     },
     "execution_count": 94,
     "metadata": {},
     "output_type": "execute_result"
    }
   ],
   "source": [
    "# 이상치 찾기\n",
    "df_view_25['view_count'].sort_values(ascending=False)"
   ]
  },
  {
   "cell_type": "code",
   "execution_count": 95,
   "id": "2df51a7f",
   "metadata": {
    "ExecuteTime": {
     "end_time": "2021-12-05T07:09:23.924239Z",
     "start_time": "2021-12-05T07:09:23.909279Z"
    }
   },
   "outputs": [
    {
     "data": {
      "text/plain": [
       "title                        청초수물회(속초본점)\n",
       "search_point                         4.1\n",
       "etc                      강원 속초시 - 해산물 요리\n",
       "view_count                        297917\n",
       "review_count                         286\n",
       "address               강원도 속초시 조양동 1555-1\n",
       "dongname                     강원도 속초시 조양동\n",
       "score_search_point                    25\n",
       "score_view_count                      10\n",
       "Name: 16, dtype: object"
      ]
     },
     "execution_count": 95,
     "metadata": {},
     "output_type": "execute_result"
    }
   ],
   "source": [
    "# 이상치\n",
    "df_view_25.loc[16]"
   ]
  },
  {
   "cell_type": "markdown",
   "id": "6ae448a2",
   "metadata": {
    "ExecuteTime": {
     "end_time": "2021-12-05T05:41:44.702920Z",
     "start_time": "2021-12-05T05:41:44.693979Z"
    }
   },
   "source": [
    "- 기준(10점) : 최상위권 뷰 > 상위권 뷰 > 평균 뷰 > 하위권 뷰\n",
    "- 총 1,143건 중 최소 뷰가 4다. \n",
    "- 평균 : 3,595 뷰\n",
    "- Q1 : 558 뷰 (0 점수)\n",
    "- Q2 : 1,000 뷰 (+ 점수)\n",
    "- Q3 : 2,046 뷰 (++ 점수)\n",
    "- 최고 기준(5% 수준) : 8,840 뷰 (+++점수)\n",
    "\n",
    "최종 결과(10점) : \n",
    ">- 최상위권 뷰(  이상 - 10점)\n",
    ">- 상위권 뷰( 이상 - 7점)\n",
    ">- 평균 뷰( 이상 - 5점)\n",
    ">- 하위권 뷰 ( 미만 - 3점)\n",
    "\n",
    "문제 - 상위 5%도 8,840 뷰 이상인데 상위 25%의 평균은 11,849 뷰 압도적인 이상치(297,917 뷰)가 존재"
   ]
  },
  {
   "cell_type": "code",
   "execution_count": 96,
   "id": "f23a2b14",
   "metadata": {
    "ExecuteTime": {
     "end_time": "2021-12-05T07:09:24.051896Z",
     "start_time": "2021-12-05T07:09:24.021976Z"
    }
   },
   "outputs": [
    {
     "data": {
      "text/html": [
       "<div>\n",
       "<style scoped>\n",
       "    .dataframe tbody tr th:only-of-type {\n",
       "        vertical-align: middle;\n",
       "    }\n",
       "\n",
       "    .dataframe tbody tr th {\n",
       "        vertical-align: top;\n",
       "    }\n",
       "\n",
       "    .dataframe thead th {\n",
       "        text-align: right;\n",
       "    }\n",
       "</style>\n",
       "<table border=\"1\" class=\"dataframe\">\n",
       "  <thead>\n",
       "    <tr style=\"text-align: right;\">\n",
       "      <th></th>\n",
       "      <th>title</th>\n",
       "      <th>search_point</th>\n",
       "      <th>etc</th>\n",
       "      <th>view_count</th>\n",
       "      <th>review_count</th>\n",
       "      <th>address</th>\n",
       "      <th>dongname</th>\n",
       "      <th>score_search_point</th>\n",
       "      <th>score_view_count</th>\n",
       "    </tr>\n",
       "  </thead>\n",
       "  <tbody>\n",
       "    <tr>\n",
       "      <th>0</th>\n",
       "      <td>모녀가리비</td>\n",
       "      <td>4.5</td>\n",
       "      <td>강원 속초시 - 해산물 요리</td>\n",
       "      <td>4174</td>\n",
       "      <td>10</td>\n",
       "      <td>강원도 속초시 대포동 964-13</td>\n",
       "      <td>강원도 속초시 대포동</td>\n",
       "      <td>30</td>\n",
       "      <td>7</td>\n",
       "    </tr>\n",
       "    <tr>\n",
       "      <th>7</th>\n",
       "      <td>마카오박</td>\n",
       "      <td>4.3</td>\n",
       "      <td>강원 속초시 - 카페 / 디저트</td>\n",
       "      <td>973</td>\n",
       "      <td>9</td>\n",
       "      <td>강원도 속초시 중앙동 479-29</td>\n",
       "      <td>강원도 속초시 중앙동</td>\n",
       "      <td>25</td>\n",
       "      <td>3</td>\n",
       "    </tr>\n",
       "    <tr>\n",
       "      <th>8</th>\n",
       "      <td>사돈집</td>\n",
       "      <td>4.3</td>\n",
       "      <td>강원 속초시 - 탕 / 찌개 / 전골</td>\n",
       "      <td>8042</td>\n",
       "      <td>9</td>\n",
       "      <td>강원도 속초시 영랑동 133</td>\n",
       "      <td>강원도 속초시 영랑동</td>\n",
       "      <td>25</td>\n",
       "      <td>7</td>\n",
       "    </tr>\n",
       "    <tr>\n",
       "      <th>14</th>\n",
       "      <td>아바이옛날식당</td>\n",
       "      <td>4.2</td>\n",
       "      <td>강원 속초시 - 기타 한식</td>\n",
       "      <td>8952</td>\n",
       "      <td>10</td>\n",
       "      <td>강원도 속초시 청호동 870</td>\n",
       "      <td>강원도 속초시 청호동</td>\n",
       "      <td>25</td>\n",
       "      <td>7</td>\n",
       "    </tr>\n",
       "    <tr>\n",
       "      <th>15</th>\n",
       "      <td>아루나</td>\n",
       "      <td>4.2</td>\n",
       "      <td>강원 속초시 - 카페 / 디저트</td>\n",
       "      <td>1393</td>\n",
       "      <td>4</td>\n",
       "      <td>강원도 속초시 청호동 1329</td>\n",
       "      <td>강원도 속초시 청호동</td>\n",
       "      <td>25</td>\n",
       "      <td>5</td>\n",
       "    </tr>\n",
       "    <tr>\n",
       "      <th>...</th>\n",
       "      <td>...</td>\n",
       "      <td>...</td>\n",
       "      <td>...</td>\n",
       "      <td>...</td>\n",
       "      <td>...</td>\n",
       "      <td>...</td>\n",
       "      <td>...</td>\n",
       "      <td>...</td>\n",
       "      <td>...</td>\n",
       "    </tr>\n",
       "    <tr>\n",
       "      <th>1138</th>\n",
       "      <td>해바라기식당</td>\n",
       "      <td>0.0</td>\n",
       "      <td>강원 고성군 - 해산물 요리</td>\n",
       "      <td>119</td>\n",
       "      <td>0</td>\n",
       "      <td>강원도 고성군 거진읍 거진리 29-3</td>\n",
       "      <td>강원도 고성군 거진읍</td>\n",
       "      <td>15</td>\n",
       "      <td>3</td>\n",
       "    </tr>\n",
       "    <tr>\n",
       "      <th>1139</th>\n",
       "      <td>메트로폴리스</td>\n",
       "      <td>0.0</td>\n",
       "      <td>강원 고성군 - 카페 / 디저트</td>\n",
       "      <td>119</td>\n",
       "      <td>0</td>\n",
       "      <td>강원도 고성군 죽왕면 문암진리 81-25</td>\n",
       "      <td>강원도 고성군 죽왕면</td>\n",
       "      <td>15</td>\n",
       "      <td>3</td>\n",
       "    </tr>\n",
       "    <tr>\n",
       "      <th>1140</th>\n",
       "      <td>BBQ치킨(고성대진점)</td>\n",
       "      <td>0.0</td>\n",
       "      <td>강원 고성군 - 닭 / 오리 요리</td>\n",
       "      <td>117</td>\n",
       "      <td>0</td>\n",
       "      <td>강원도 고성군 현내면 대진리 111-7</td>\n",
       "      <td>강원도 고성군 현내면</td>\n",
       "      <td>15</td>\n",
       "      <td>3</td>\n",
       "    </tr>\n",
       "    <tr>\n",
       "      <th>1141</th>\n",
       "      <td>일차돌(고성점)</td>\n",
       "      <td>0.0</td>\n",
       "      <td>강원 고성군 - 고기 요리</td>\n",
       "      <td>104</td>\n",
       "      <td>0</td>\n",
       "      <td>강원도 고성군 간성읍 신안리 248-2</td>\n",
       "      <td>강원도 고성군 간성읍</td>\n",
       "      <td>15</td>\n",
       "      <td>3</td>\n",
       "    </tr>\n",
       "    <tr>\n",
       "      <th>1142</th>\n",
       "      <td>올라</td>\n",
       "      <td>0.0</td>\n",
       "      <td>강원 고성군 - 카페 / 디저트</td>\n",
       "      <td>104</td>\n",
       "      <td>0</td>\n",
       "      <td>강원도 고성군 토성면 천진리 110</td>\n",
       "      <td>강원도 고성군 토성면</td>\n",
       "      <td>15</td>\n",
       "      <td>3</td>\n",
       "    </tr>\n",
       "  </tbody>\n",
       "</table>\n",
       "<p>1079 rows × 9 columns</p>\n",
       "</div>"
      ],
      "text/plain": [
       "             title  search_point                   etc  view_count  \\\n",
       "0            모녀가리비           4.5       강원 속초시 - 해산물 요리        4174   \n",
       "7             마카오박           4.3     강원 속초시 - 카페 / 디저트         973   \n",
       "8              사돈집           4.3  강원 속초시 - 탕 / 찌개 / 전골        8042   \n",
       "14         아바이옛날식당           4.2        강원 속초시 - 기타 한식        8952   \n",
       "15             아루나           4.2     강원 속초시 - 카페 / 디저트        1393   \n",
       "...            ...           ...                   ...         ...   \n",
       "1138        해바라기식당           0.0       강원 고성군 - 해산물 요리         119   \n",
       "1139        메트로폴리스           0.0     강원 고성군 - 카페 / 디저트         119   \n",
       "1140  BBQ치킨(고성대진점)           0.0    강원 고성군 - 닭 / 오리 요리         117   \n",
       "1141      일차돌(고성점)           0.0        강원 고성군 - 고기 요리         104   \n",
       "1142            올라           0.0     강원 고성군 - 카페 / 디저트         104   \n",
       "\n",
       "      review_count                 address     dongname  score_search_point  \\\n",
       "0               10      강원도 속초시 대포동 964-13  강원도 속초시 대포동                  30   \n",
       "7                9      강원도 속초시 중앙동 479-29  강원도 속초시 중앙동                  25   \n",
       "8                9         강원도 속초시 영랑동 133  강원도 속초시 영랑동                  25   \n",
       "14              10         강원도 속초시 청호동 870  강원도 속초시 청호동                  25   \n",
       "15               4        강원도 속초시 청호동 1329  강원도 속초시 청호동                  25   \n",
       "...            ...                     ...          ...                 ...   \n",
       "1138             0    강원도 고성군 거진읍 거진리 29-3  강원도 고성군 거진읍                  15   \n",
       "1139             0  강원도 고성군 죽왕면 문암진리 81-25  강원도 고성군 죽왕면                  15   \n",
       "1140             0   강원도 고성군 현내면 대진리 111-7  강원도 고성군 현내면                  15   \n",
       "1141             0   강원도 고성군 간성읍 신안리 248-2  강원도 고성군 간성읍                  15   \n",
       "1142             0     강원도 고성군 토성면 천진리 110  강원도 고성군 토성면                  15   \n",
       "\n",
       "      score_view_count  \n",
       "0                    7  \n",
       "7                    3  \n",
       "8                    7  \n",
       "14                   7  \n",
       "15                   5  \n",
       "...                ...  \n",
       "1138                 3  \n",
       "1139                 3  \n",
       "1140                 3  \n",
       "1141                 3  \n",
       "1142                 3  \n",
       "\n",
       "[1079 rows x 9 columns]"
      ]
     },
     "execution_count": 96,
     "metadata": {},
     "output_type": "execute_result"
    }
   ],
   "source": [
    "# 이상치(10,000 뷰 이상) 제외\n",
    "df_view_out = df[df[\"view_count\"] < 10000]\n",
    "df_view_out"
   ]
  },
  {
   "cell_type": "code",
   "execution_count": 97,
   "id": "3df30315",
   "metadata": {
    "ExecuteTime": {
     "end_time": "2021-12-05T07:09:24.523755Z",
     "start_time": "2021-12-05T07:09:24.183545Z"
    }
   },
   "outputs": [
    {
     "name": "stderr",
     "output_type": "stream",
     "text": [
      "C:\\ProgramData\\Anaconda3\\lib\\site-packages\\seaborn\\distributions.py:2557: FutureWarning: `distplot` is a deprecated function and will be removed in a future version. Please adapt your code to use either `displot` (a figure-level function with similar flexibility) or `histplot` (an axes-level function for histograms).\n",
      "  warnings.warn(msg, FutureWarning)\n"
     ]
    },
    {
     "data": {
      "text/plain": [
       "<AxesSubplot:xlabel='view_count', ylabel='Density'>"
      ]
     },
     "execution_count": 97,
     "metadata": {},
     "output_type": "execute_result"
    },
    {
     "data": {
      "image/png": "[encoded data removed]",
      "text/plain": [
       "<Figure size 864x432 with 1 Axes>"
      ]
     },
     "metadata": {
      "needs_background": "light"
     },
     "output_type": "display_data"
    }
   ],
   "source": [
    "# 이상치 제외 뷰 distplot\n",
    "plt.figure(figsize=(12, 6))\n",
    "sns.distplot(df_view_out['view_count'], bins=100)"
   ]
  },
  {
   "cell_type": "code",
   "execution_count": 98,
   "id": "ea2e0704",
   "metadata": {
    "ExecuteTime": {
     "end_time": "2021-12-05T07:09:24.698251Z",
     "start_time": "2021-12-05T07:09:24.669324Z"
    }
   },
   "outputs": [
    {
     "data": {
      "text/html": [
       "<div>\n",
       "<style scoped>\n",
       "    .dataframe tbody tr th:only-of-type {\n",
       "        vertical-align: middle;\n",
       "    }\n",
       "\n",
       "    .dataframe tbody tr th {\n",
       "        vertical-align: top;\n",
       "    }\n",
       "\n",
       "    .dataframe thead th {\n",
       "        text-align: right;\n",
       "    }\n",
       "</style>\n",
       "<table border=\"1\" class=\"dataframe\">\n",
       "  <thead>\n",
       "    <tr style=\"text-align: right;\">\n",
       "      <th></th>\n",
       "      <th>search_point</th>\n",
       "      <th>view_count</th>\n",
       "      <th>review_count</th>\n",
       "      <th>score_search_point</th>\n",
       "      <th>score_view_count</th>\n",
       "    </tr>\n",
       "  </thead>\n",
       "  <tbody>\n",
       "    <tr>\n",
       "      <th>count</th>\n",
       "      <td>1079.000000</td>\n",
       "      <td>1079.000000</td>\n",
       "      <td>1079.000000</td>\n",
       "      <td>1079.000000</td>\n",
       "      <td>1079.000000</td>\n",
       "    </tr>\n",
       "    <tr>\n",
       "      <th>mean</th>\n",
       "      <td>0.154402</td>\n",
       "      <td>1459.744208</td>\n",
       "      <td>1.582947</td>\n",
       "      <td>15.128823</td>\n",
       "      <td>4.373494</td>\n",
       "    </tr>\n",
       "    <tr>\n",
       "      <th>std</th>\n",
       "      <td>0.751299</td>\n",
       "      <td>1534.657182</td>\n",
       "      <td>3.844897</td>\n",
       "      <td>1.096077</td>\n",
       "      <td>1.609481</td>\n",
       "    </tr>\n",
       "    <tr>\n",
       "      <th>min</th>\n",
       "      <td>0.000000</td>\n",
       "      <td>4.000000</td>\n",
       "      <td>0.000000</td>\n",
       "      <td>12.000000</td>\n",
       "      <td>3.000000</td>\n",
       "    </tr>\n",
       "    <tr>\n",
       "      <th>25%</th>\n",
       "      <td>0.000000</td>\n",
       "      <td>537.000000</td>\n",
       "      <td>0.000000</td>\n",
       "      <td>15.000000</td>\n",
       "      <td>3.000000</td>\n",
       "    </tr>\n",
       "    <tr>\n",
       "      <th>50%</th>\n",
       "      <td>0.000000</td>\n",
       "      <td>930.000000</td>\n",
       "      <td>1.000000</td>\n",
       "      <td>15.000000</td>\n",
       "      <td>3.000000</td>\n",
       "    </tr>\n",
       "    <tr>\n",
       "      <th>75%</th>\n",
       "      <td>0.000000</td>\n",
       "      <td>1816.500000</td>\n",
       "      <td>2.000000</td>\n",
       "      <td>15.000000</td>\n",
       "      <td>5.000000</td>\n",
       "    </tr>\n",
       "    <tr>\n",
       "      <th>max</th>\n",
       "      <td>4.500000</td>\n",
       "      <td>9971.000000</td>\n",
       "      <td>99.000000</td>\n",
       "      <td>30.000000</td>\n",
       "      <td>7.000000</td>\n",
       "    </tr>\n",
       "  </tbody>\n",
       "</table>\n",
       "</div>"
      ],
      "text/plain": [
       "       search_point   view_count  review_count  score_search_point  \\\n",
       "count   1079.000000  1079.000000   1079.000000         1079.000000   \n",
       "mean       0.154402  1459.744208      1.582947           15.128823   \n",
       "std        0.751299  1534.657182      3.844897            1.096077   \n",
       "min        0.000000     4.000000      0.000000           12.000000   \n",
       "25%        0.000000   537.000000      0.000000           15.000000   \n",
       "50%        0.000000   930.000000      1.000000           15.000000   \n",
       "75%        0.000000  1816.500000      2.000000           15.000000   \n",
       "max        4.500000  9971.000000     99.000000           30.000000   \n",
       "\n",
       "       score_view_count  \n",
       "count       1079.000000  \n",
       "mean           4.373494  \n",
       "std            1.609481  \n",
       "min            3.000000  \n",
       "25%            3.000000  \n",
       "50%            3.000000  \n",
       "75%            5.000000  \n",
       "max            7.000000  "
      ]
     },
     "execution_count": 98,
     "metadata": {},
     "output_type": "execute_result"
    }
   ],
   "source": [
    "df_view_out.describe()"
   ]
  },
  {
   "cell_type": "markdown",
   "id": "37ae0211",
   "metadata": {},
   "source": [
    "이상치(10,000 뷰 이상) 제외 (64건)\n",
    "- 기준(10점) : 최상위권 뷰 > 상위권 뷰 > 평균 뷰 > 하위권 뷰\n",
    "- 총 1,079(64건 제외)건 중 최소 뷰가 4다. \n",
    "- 평균 : 1,459 뷰\n",
    "- Q1 : 537 뷰 (0 점수)\n",
    "- Q2 : 930 뷰 (+ 점수)\n",
    "- Q3 : 1,816 뷰 (++ 점수)\n",
    "- 최고 기준(5.5% 수준) : 10,000 뷰 (+++점수)\n",
    "\n",
    "최종 결과(10점) : \n",
    ">- 최상위권 뷰(10,000 뷰 이상 - 10점)\n",
    ">- 상위권 뷰(2,000 뷰 이상 - 7점)\n",
    ">- 평균 뷰(1,000 뷰 이상 - 5점)\n",
    ">- 하위권 뷰 (1,000 뷰 미만 - 3점)"
   ]
  },
  {
   "cell_type": "code",
   "execution_count": 99,
   "id": "9da98a15",
   "metadata": {
    "ExecuteTime": {
     "end_time": "2021-12-05T07:09:25.517532Z",
     "start_time": "2021-12-05T07:09:25.495557Z"
    }
   },
   "outputs": [
    {
     "data": {
      "text/html": [
       "<div>\n",
       "<style scoped>\n",
       "    .dataframe tbody tr th:only-of-type {\n",
       "        vertical-align: middle;\n",
       "    }\n",
       "\n",
       "    .dataframe tbody tr th {\n",
       "        vertical-align: top;\n",
       "    }\n",
       "\n",
       "    .dataframe thead th {\n",
       "        text-align: right;\n",
       "    }\n",
       "</style>\n",
       "<table border=\"1\" class=\"dataframe\">\n",
       "  <thead>\n",
       "    <tr style=\"text-align: right;\">\n",
       "      <th></th>\n",
       "      <th>title</th>\n",
       "      <th>search_point</th>\n",
       "      <th>etc</th>\n",
       "      <th>view_count</th>\n",
       "      <th>review_count</th>\n",
       "      <th>address</th>\n",
       "      <th>dongname</th>\n",
       "      <th>score_search_point</th>\n",
       "      <th>score_view_count</th>\n",
       "    </tr>\n",
       "  </thead>\n",
       "  <tbody>\n",
       "    <tr>\n",
       "      <th>0</th>\n",
       "      <td>모녀가리비</td>\n",
       "      <td>4.5</td>\n",
       "      <td>강원 속초시 - 해산물 요리</td>\n",
       "      <td>4174</td>\n",
       "      <td>10</td>\n",
       "      <td>강원도 속초시 대포동 964-13</td>\n",
       "      <td>강원도 속초시 대포동</td>\n",
       "      <td>30</td>\n",
       "      <td>0.0</td>\n",
       "    </tr>\n",
       "    <tr>\n",
       "      <th>1</th>\n",
       "      <td>속초붉은대게수산</td>\n",
       "      <td>4.4</td>\n",
       "      <td>강원 속초시 - 해산물 요리</td>\n",
       "      <td>34739</td>\n",
       "      <td>17</td>\n",
       "      <td>강원도 속초시 중앙동 472-5</td>\n",
       "      <td>강원도 속초시 중앙동</td>\n",
       "      <td>30</td>\n",
       "      <td>0.0</td>\n",
       "    </tr>\n",
       "    <tr>\n",
       "      <th>2</th>\n",
       "      <td>단천식당</td>\n",
       "      <td>4.3</td>\n",
       "      <td>강원 속초시 - 탕 / 찌개 / 전골</td>\n",
       "      <td>30457</td>\n",
       "      <td>38</td>\n",
       "      <td>강원도 속초시 청호동 842</td>\n",
       "      <td>강원도 속초시 청호동</td>\n",
       "      <td>25</td>\n",
       "      <td>0.0</td>\n",
       "    </tr>\n",
       "    <tr>\n",
       "      <th>3</th>\n",
       "      <td>왕박골식당</td>\n",
       "      <td>4.3</td>\n",
       "      <td>강원 속초시 - 국수 / 면 요리</td>\n",
       "      <td>24858</td>\n",
       "      <td>14</td>\n",
       "      <td>강원도 속초시 장사동 525-3</td>\n",
       "      <td>강원도 속초시 장사동</td>\n",
       "      <td>25</td>\n",
       "      <td>0.0</td>\n",
       "    </tr>\n",
       "    <tr>\n",
       "      <th>4</th>\n",
       "      <td>속초751샌드위치</td>\n",
       "      <td>4.3</td>\n",
       "      <td>강원 속초시 - 브런치 / 버거 / 샌드위치</td>\n",
       "      <td>16463</td>\n",
       "      <td>14</td>\n",
       "      <td>강원도 속초시 교동 780-55</td>\n",
       "      <td>강원도 속초시 교동</td>\n",
       "      <td>25</td>\n",
       "      <td>0.0</td>\n",
       "    </tr>\n",
       "  </tbody>\n",
       "</table>\n",
       "</div>"
      ],
      "text/plain": [
       "       title  search_point                       etc  view_count  \\\n",
       "0      모녀가리비           4.5           강원 속초시 - 해산물 요리        4174   \n",
       "1   속초붉은대게수산           4.4           강원 속초시 - 해산물 요리       34739   \n",
       "2       단천식당           4.3      강원 속초시 - 탕 / 찌개 / 전골       30457   \n",
       "3      왕박골식당           4.3        강원 속초시 - 국수 / 면 요리       24858   \n",
       "4  속초751샌드위치           4.3  강원 속초시 - 브런치 / 버거 / 샌드위치       16463   \n",
       "\n",
       "   review_count             address     dongname  score_search_point  \\\n",
       "0            10  강원도 속초시 대포동 964-13  강원도 속초시 대포동                  30   \n",
       "1            17   강원도 속초시 중앙동 472-5  강원도 속초시 중앙동                  30   \n",
       "2            38     강원도 속초시 청호동 842  강원도 속초시 청호동                  25   \n",
       "3            14   강원도 속초시 장사동 525-3  강원도 속초시 장사동                  25   \n",
       "4            14   강원도 속초시 교동 780-55   강원도 속초시 교동                  25   \n",
       "\n",
       "   score_view_count  \n",
       "0               0.0  \n",
       "1               0.0  \n",
       "2               0.0  \n",
       "3               0.0  \n",
       "4               0.0  "
      ]
     },
     "execution_count": 99,
     "metadata": {},
     "output_type": "execute_result"
    }
   ],
   "source": [
    "# 뷰 점수 부여\n",
    "df[\"score_view_count\"] = float(0)\n",
    "df.head()"
   ]
  },
  {
   "cell_type": "code",
   "execution_count": 100,
   "id": "4af3020d",
   "metadata": {
    "ExecuteTime": {
     "end_time": "2021-12-05T07:09:25.881298Z",
     "start_time": "2021-12-05T07:09:25.868339Z"
    }
   },
   "outputs": [],
   "source": [
    "# score 함수 생성\n",
    "def score_view_count(data):\n",
    "    if data >= 10000:\n",
    "        return 10\n",
    "    elif (data < 10000) & (data >= 2000):\n",
    "        return 7\n",
    "    elif (data < 2000) & (data >= 1000):\n",
    "        return 5\n",
    "    else:\n",
    "        return 3"
   ]
  },
  {
   "cell_type": "code",
   "execution_count": 101,
   "id": "a961b19b",
   "metadata": {
    "ExecuteTime": {
     "end_time": "2021-12-05T07:09:26.367402Z",
     "start_time": "2021-12-05T07:09:26.354437Z"
    }
   },
   "outputs": [
    {
     "data": {
      "text/plain": [
       "0        7\n",
       "1       10\n",
       "2       10\n",
       "3       10\n",
       "4       10\n",
       "        ..\n",
       "1138     3\n",
       "1139     3\n",
       "1140     3\n",
       "1141     3\n",
       "1142     3\n",
       "Name: score_view_count, Length: 1143, dtype: int64"
      ]
     },
     "execution_count": 101,
     "metadata": {},
     "output_type": "execute_result"
    }
   ],
   "source": [
    "# 실행\n",
    "df[\"score_view_count\"] = df[\"view_count\"].apply(score_view_count)\n",
    "df[\"score_view_count\"]"
   ]
  },
  {
   "cell_type": "code",
   "execution_count": 102,
   "id": "d0c4c847",
   "metadata": {
    "ExecuteTime": {
     "end_time": "2021-12-05T07:09:26.837712Z",
     "start_time": "2021-12-05T07:09:26.808790Z"
    }
   },
   "outputs": [
    {
     "data": {
      "text/html": [
       "<div>\n",
       "<style scoped>\n",
       "    .dataframe tbody tr th:only-of-type {\n",
       "        vertical-align: middle;\n",
       "    }\n",
       "\n",
       "    .dataframe tbody tr th {\n",
       "        vertical-align: top;\n",
       "    }\n",
       "\n",
       "    .dataframe thead th {\n",
       "        text-align: right;\n",
       "    }\n",
       "</style>\n",
       "<table border=\"1\" class=\"dataframe\">\n",
       "  <thead>\n",
       "    <tr style=\"text-align: right;\">\n",
       "      <th></th>\n",
       "      <th>title</th>\n",
       "      <th>search_point</th>\n",
       "      <th>etc</th>\n",
       "      <th>view_count</th>\n",
       "      <th>review_count</th>\n",
       "      <th>address</th>\n",
       "      <th>dongname</th>\n",
       "      <th>score_search_point</th>\n",
       "      <th>score_view_count</th>\n",
       "    </tr>\n",
       "  </thead>\n",
       "  <tbody>\n",
       "    <tr>\n",
       "      <th>0</th>\n",
       "      <td>모녀가리비</td>\n",
       "      <td>4.5</td>\n",
       "      <td>강원 속초시 - 해산물 요리</td>\n",
       "      <td>4174</td>\n",
       "      <td>10</td>\n",
       "      <td>강원도 속초시 대포동 964-13</td>\n",
       "      <td>강원도 속초시 대포동</td>\n",
       "      <td>30</td>\n",
       "      <td>7</td>\n",
       "    </tr>\n",
       "    <tr>\n",
       "      <th>1</th>\n",
       "      <td>속초붉은대게수산</td>\n",
       "      <td>4.4</td>\n",
       "      <td>강원 속초시 - 해산물 요리</td>\n",
       "      <td>34739</td>\n",
       "      <td>17</td>\n",
       "      <td>강원도 속초시 중앙동 472-5</td>\n",
       "      <td>강원도 속초시 중앙동</td>\n",
       "      <td>30</td>\n",
       "      <td>10</td>\n",
       "    </tr>\n",
       "    <tr>\n",
       "      <th>2</th>\n",
       "      <td>단천식당</td>\n",
       "      <td>4.3</td>\n",
       "      <td>강원 속초시 - 탕 / 찌개 / 전골</td>\n",
       "      <td>30457</td>\n",
       "      <td>38</td>\n",
       "      <td>강원도 속초시 청호동 842</td>\n",
       "      <td>강원도 속초시 청호동</td>\n",
       "      <td>25</td>\n",
       "      <td>10</td>\n",
       "    </tr>\n",
       "    <tr>\n",
       "      <th>3</th>\n",
       "      <td>왕박골식당</td>\n",
       "      <td>4.3</td>\n",
       "      <td>강원 속초시 - 국수 / 면 요리</td>\n",
       "      <td>24858</td>\n",
       "      <td>14</td>\n",
       "      <td>강원도 속초시 장사동 525-3</td>\n",
       "      <td>강원도 속초시 장사동</td>\n",
       "      <td>25</td>\n",
       "      <td>10</td>\n",
       "    </tr>\n",
       "    <tr>\n",
       "      <th>4</th>\n",
       "      <td>속초751샌드위치</td>\n",
       "      <td>4.3</td>\n",
       "      <td>강원 속초시 - 브런치 / 버거 / 샌드위치</td>\n",
       "      <td>16463</td>\n",
       "      <td>14</td>\n",
       "      <td>강원도 속초시 교동 780-55</td>\n",
       "      <td>강원도 속초시 교동</td>\n",
       "      <td>25</td>\n",
       "      <td>10</td>\n",
       "    </tr>\n",
       "    <tr>\n",
       "      <th>...</th>\n",
       "      <td>...</td>\n",
       "      <td>...</td>\n",
       "      <td>...</td>\n",
       "      <td>...</td>\n",
       "      <td>...</td>\n",
       "      <td>...</td>\n",
       "      <td>...</td>\n",
       "      <td>...</td>\n",
       "      <td>...</td>\n",
       "    </tr>\n",
       "    <tr>\n",
       "      <th>1138</th>\n",
       "      <td>해바라기식당</td>\n",
       "      <td>0.0</td>\n",
       "      <td>강원 고성군 - 해산물 요리</td>\n",
       "      <td>119</td>\n",
       "      <td>0</td>\n",
       "      <td>강원도 고성군 거진읍 거진리 29-3</td>\n",
       "      <td>강원도 고성군 거진읍</td>\n",
       "      <td>15</td>\n",
       "      <td>3</td>\n",
       "    </tr>\n",
       "    <tr>\n",
       "      <th>1139</th>\n",
       "      <td>메트로폴리스</td>\n",
       "      <td>0.0</td>\n",
       "      <td>강원 고성군 - 카페 / 디저트</td>\n",
       "      <td>119</td>\n",
       "      <td>0</td>\n",
       "      <td>강원도 고성군 죽왕면 문암진리 81-25</td>\n",
       "      <td>강원도 고성군 죽왕면</td>\n",
       "      <td>15</td>\n",
       "      <td>3</td>\n",
       "    </tr>\n",
       "    <tr>\n",
       "      <th>1140</th>\n",
       "      <td>BBQ치킨(고성대진점)</td>\n",
       "      <td>0.0</td>\n",
       "      <td>강원 고성군 - 닭 / 오리 요리</td>\n",
       "      <td>117</td>\n",
       "      <td>0</td>\n",
       "      <td>강원도 고성군 현내면 대진리 111-7</td>\n",
       "      <td>강원도 고성군 현내면</td>\n",
       "      <td>15</td>\n",
       "      <td>3</td>\n",
       "    </tr>\n",
       "    <tr>\n",
       "      <th>1141</th>\n",
       "      <td>일차돌(고성점)</td>\n",
       "      <td>0.0</td>\n",
       "      <td>강원 고성군 - 고기 요리</td>\n",
       "      <td>104</td>\n",
       "      <td>0</td>\n",
       "      <td>강원도 고성군 간성읍 신안리 248-2</td>\n",
       "      <td>강원도 고성군 간성읍</td>\n",
       "      <td>15</td>\n",
       "      <td>3</td>\n",
       "    </tr>\n",
       "    <tr>\n",
       "      <th>1142</th>\n",
       "      <td>올라</td>\n",
       "      <td>0.0</td>\n",
       "      <td>강원 고성군 - 카페 / 디저트</td>\n",
       "      <td>104</td>\n",
       "      <td>0</td>\n",
       "      <td>강원도 고성군 토성면 천진리 110</td>\n",
       "      <td>강원도 고성군 토성면</td>\n",
       "      <td>15</td>\n",
       "      <td>3</td>\n",
       "    </tr>\n",
       "  </tbody>\n",
       "</table>\n",
       "<p>1143 rows × 9 columns</p>\n",
       "</div>"
      ],
      "text/plain": [
       "             title  search_point                       etc  view_count  \\\n",
       "0            모녀가리비           4.5           강원 속초시 - 해산물 요리        4174   \n",
       "1         속초붉은대게수산           4.4           강원 속초시 - 해산물 요리       34739   \n",
       "2             단천식당           4.3      강원 속초시 - 탕 / 찌개 / 전골       30457   \n",
       "3            왕박골식당           4.3        강원 속초시 - 국수 / 면 요리       24858   \n",
       "4        속초751샌드위치           4.3  강원 속초시 - 브런치 / 버거 / 샌드위치       16463   \n",
       "...            ...           ...                       ...         ...   \n",
       "1138        해바라기식당           0.0           강원 고성군 - 해산물 요리         119   \n",
       "1139        메트로폴리스           0.0         강원 고성군 - 카페 / 디저트         119   \n",
       "1140  BBQ치킨(고성대진점)           0.0        강원 고성군 - 닭 / 오리 요리         117   \n",
       "1141      일차돌(고성점)           0.0            강원 고성군 - 고기 요리         104   \n",
       "1142            올라           0.0         강원 고성군 - 카페 / 디저트         104   \n",
       "\n",
       "      review_count                 address     dongname  score_search_point  \\\n",
       "0               10      강원도 속초시 대포동 964-13  강원도 속초시 대포동                  30   \n",
       "1               17       강원도 속초시 중앙동 472-5  강원도 속초시 중앙동                  30   \n",
       "2               38         강원도 속초시 청호동 842  강원도 속초시 청호동                  25   \n",
       "3               14       강원도 속초시 장사동 525-3  강원도 속초시 장사동                  25   \n",
       "4               14       강원도 속초시 교동 780-55   강원도 속초시 교동                  25   \n",
       "...            ...                     ...          ...                 ...   \n",
       "1138             0    강원도 고성군 거진읍 거진리 29-3  강원도 고성군 거진읍                  15   \n",
       "1139             0  강원도 고성군 죽왕면 문암진리 81-25  강원도 고성군 죽왕면                  15   \n",
       "1140             0   강원도 고성군 현내면 대진리 111-7  강원도 고성군 현내면                  15   \n",
       "1141             0   강원도 고성군 간성읍 신안리 248-2  강원도 고성군 간성읍                  15   \n",
       "1142             0     강원도 고성군 토성면 천진리 110  강원도 고성군 토성면                  15   \n",
       "\n",
       "      score_view_count  \n",
       "0                    7  \n",
       "1                   10  \n",
       "2                   10  \n",
       "3                   10  \n",
       "4                   10  \n",
       "...                ...  \n",
       "1138                 3  \n",
       "1139                 3  \n",
       "1140                 3  \n",
       "1141                 3  \n",
       "1142                 3  \n",
       "\n",
       "[1143 rows x 9 columns]"
      ]
     },
     "execution_count": 102,
     "metadata": {},
     "output_type": "execute_result"
    }
   ],
   "source": [
    "# 확인\n",
    "df"
   ]
  },
  {
   "cell_type": "markdown",
   "id": "1fa05373",
   "metadata": {},
   "source": [
    "## review_count(리뷰 수)"
   ]
  },
  {
   "cell_type": "code",
   "execution_count": 103,
   "id": "6416c55c",
   "metadata": {
    "ExecuteTime": {
     "end_time": "2021-12-05T07:09:29.783839Z",
     "start_time": "2021-12-05T07:09:29.643218Z"
    }
   },
   "outputs": [
    {
     "data": {
      "image/png": "[encoded data removed]",
      "text/plain": [
       "<Figure size 864x576 with 1 Axes>"
      ]
     },
     "metadata": {
      "needs_background": "light"
     },
     "output_type": "display_data"
    }
   ],
   "source": [
    "# review_count hist\n",
    "plt.figure(figsize=(12,8))\n",
    "plt.hist(df[\"review_count\"], bins=5)\n",
    "plt.show()"
   ]
  },
  {
   "cell_type": "code",
   "execution_count": 104,
   "id": "15e77ec1",
   "metadata": {
    "ExecuteTime": {
     "end_time": "2021-12-05T07:09:30.267042Z",
     "start_time": "2021-12-05T07:09:30.243147Z"
    }
   },
   "outputs": [
    {
     "data": {
      "text/html": [
       "<div>\n",
       "<style scoped>\n",
       "    .dataframe tbody tr th:only-of-type {\n",
       "        vertical-align: middle;\n",
       "    }\n",
       "\n",
       "    .dataframe tbody tr th {\n",
       "        vertical-align: top;\n",
       "    }\n",
       "\n",
       "    .dataframe thead th {\n",
       "        text-align: right;\n",
       "    }\n",
       "</style>\n",
       "<table border=\"1\" class=\"dataframe\">\n",
       "  <thead>\n",
       "    <tr style=\"text-align: right;\">\n",
       "      <th></th>\n",
       "      <th>search_point</th>\n",
       "      <th>view_count</th>\n",
       "      <th>review_count</th>\n",
       "      <th>score_search_point</th>\n",
       "      <th>score_view_count</th>\n",
       "    </tr>\n",
       "  </thead>\n",
       "  <tbody>\n",
       "    <tr>\n",
       "      <th>count</th>\n",
       "      <td>1143.000000</td>\n",
       "      <td>1143.000000</td>\n",
       "      <td>1143.000000</td>\n",
       "      <td>1143.000000</td>\n",
       "      <td>1143.000000</td>\n",
       "    </tr>\n",
       "    <tr>\n",
       "      <th>mean</th>\n",
       "      <td>0.342257</td>\n",
       "      <td>3595.352581</td>\n",
       "      <td>3.805774</td>\n",
       "      <td>15.358705</td>\n",
       "      <td>4.688539</td>\n",
       "    </tr>\n",
       "    <tr>\n",
       "      <th>std</th>\n",
       "      <td>1.097397</td>\n",
       "      <td>13379.869446</td>\n",
       "      <td>15.477482</td>\n",
       "      <td>1.790941</td>\n",
       "      <td>2.029796</td>\n",
       "    </tr>\n",
       "    <tr>\n",
       "      <th>min</th>\n",
       "      <td>0.000000</td>\n",
       "      <td>4.000000</td>\n",
       "      <td>0.000000</td>\n",
       "      <td>12.000000</td>\n",
       "      <td>3.000000</td>\n",
       "    </tr>\n",
       "    <tr>\n",
       "      <th>25%</th>\n",
       "      <td>0.000000</td>\n",
       "      <td>558.000000</td>\n",
       "      <td>0.000000</td>\n",
       "      <td>15.000000</td>\n",
       "      <td>3.000000</td>\n",
       "    </tr>\n",
       "    <tr>\n",
       "      <th>50%</th>\n",
       "      <td>0.000000</td>\n",
       "      <td>1000.000000</td>\n",
       "      <td>1.000000</td>\n",
       "      <td>15.000000</td>\n",
       "      <td>5.000000</td>\n",
       "    </tr>\n",
       "    <tr>\n",
       "      <th>75%</th>\n",
       "      <td>0.000000</td>\n",
       "      <td>2046.000000</td>\n",
       "      <td>2.000000</td>\n",
       "      <td>15.000000</td>\n",
       "      <td>7.000000</td>\n",
       "    </tr>\n",
       "    <tr>\n",
       "      <th>max</th>\n",
       "      <td>4.500000</td>\n",
       "      <td>297917.000000</td>\n",
       "      <td>286.000000</td>\n",
       "      <td>30.000000</td>\n",
       "      <td>10.000000</td>\n",
       "    </tr>\n",
       "  </tbody>\n",
       "</table>\n",
       "</div>"
      ],
      "text/plain": [
       "       search_point     view_count  review_count  score_search_point  \\\n",
       "count   1143.000000    1143.000000   1143.000000         1143.000000   \n",
       "mean       0.342257    3595.352581      3.805774           15.358705   \n",
       "std        1.097397   13379.869446     15.477482            1.790941   \n",
       "min        0.000000       4.000000      0.000000           12.000000   \n",
       "25%        0.000000     558.000000      0.000000           15.000000   \n",
       "50%        0.000000    1000.000000      1.000000           15.000000   \n",
       "75%        0.000000    2046.000000      2.000000           15.000000   \n",
       "max        4.500000  297917.000000    286.000000           30.000000   \n",
       "\n",
       "       score_view_count  \n",
       "count       1143.000000  \n",
       "mean           4.688539  \n",
       "std            2.029796  \n",
       "min            3.000000  \n",
       "25%            3.000000  \n",
       "50%            5.000000  \n",
       "75%            7.000000  \n",
       "max           10.000000  "
      ]
     },
     "execution_count": 104,
     "metadata": {},
     "output_type": "execute_result"
    }
   ],
   "source": [
    "df.describe()"
   ]
  },
  {
   "cell_type": "code",
   "execution_count": 106,
   "id": "a715560d",
   "metadata": {
    "ExecuteTime": {
     "end_time": "2021-12-05T07:10:24.478784Z",
     "start_time": "2021-12-05T07:10:24.461828Z"
    }
   },
   "outputs": [],
   "source": [
    "# 리뷰가 존재하는 식당만 인덱싱\n",
    "df_review = df[df['review_count'] != 0]"
   ]
  },
  {
   "cell_type": "code",
   "execution_count": 107,
   "id": "1a45861e",
   "metadata": {
    "ExecuteTime": {
     "end_time": "2021-12-05T07:10:29.918521Z",
     "start_time": "2021-12-05T07:10:29.894585Z"
    }
   },
   "outputs": [
    {
     "data": {
      "text/html": [
       "<div>\n",
       "<style scoped>\n",
       "    .dataframe tbody tr th:only-of-type {\n",
       "        vertical-align: middle;\n",
       "    }\n",
       "\n",
       "    .dataframe tbody tr th {\n",
       "        vertical-align: top;\n",
       "    }\n",
       "\n",
       "    .dataframe thead th {\n",
       "        text-align: right;\n",
       "    }\n",
       "</style>\n",
       "<table border=\"1\" class=\"dataframe\">\n",
       "  <thead>\n",
       "    <tr style=\"text-align: right;\">\n",
       "      <th></th>\n",
       "      <th>title</th>\n",
       "      <th>search_point</th>\n",
       "      <th>etc</th>\n",
       "      <th>view_count</th>\n",
       "      <th>review_count</th>\n",
       "      <th>address</th>\n",
       "      <th>dongname</th>\n",
       "      <th>score_search_point</th>\n",
       "      <th>score_view_count</th>\n",
       "    </tr>\n",
       "  </thead>\n",
       "  <tbody>\n",
       "    <tr>\n",
       "      <th>0</th>\n",
       "      <td>모녀가리비</td>\n",
       "      <td>4.5</td>\n",
       "      <td>강원 속초시 - 해산물 요리</td>\n",
       "      <td>4174</td>\n",
       "      <td>10</td>\n",
       "      <td>강원도 속초시 대포동 964-13</td>\n",
       "      <td>강원도 속초시 대포동</td>\n",
       "      <td>30</td>\n",
       "      <td>7</td>\n",
       "    </tr>\n",
       "    <tr>\n",
       "      <th>1</th>\n",
       "      <td>속초붉은대게수산</td>\n",
       "      <td>4.4</td>\n",
       "      <td>강원 속초시 - 해산물 요리</td>\n",
       "      <td>34739</td>\n",
       "      <td>17</td>\n",
       "      <td>강원도 속초시 중앙동 472-5</td>\n",
       "      <td>강원도 속초시 중앙동</td>\n",
       "      <td>30</td>\n",
       "      <td>10</td>\n",
       "    </tr>\n",
       "    <tr>\n",
       "      <th>2</th>\n",
       "      <td>단천식당</td>\n",
       "      <td>4.3</td>\n",
       "      <td>강원 속초시 - 탕 / 찌개 / 전골</td>\n",
       "      <td>30457</td>\n",
       "      <td>38</td>\n",
       "      <td>강원도 속초시 청호동 842</td>\n",
       "      <td>강원도 속초시 청호동</td>\n",
       "      <td>25</td>\n",
       "      <td>10</td>\n",
       "    </tr>\n",
       "    <tr>\n",
       "      <th>3</th>\n",
       "      <td>왕박골식당</td>\n",
       "      <td>4.3</td>\n",
       "      <td>강원 속초시 - 국수 / 면 요리</td>\n",
       "      <td>24858</td>\n",
       "      <td>14</td>\n",
       "      <td>강원도 속초시 장사동 525-3</td>\n",
       "      <td>강원도 속초시 장사동</td>\n",
       "      <td>25</td>\n",
       "      <td>10</td>\n",
       "    </tr>\n",
       "    <tr>\n",
       "      <th>4</th>\n",
       "      <td>속초751샌드위치</td>\n",
       "      <td>4.3</td>\n",
       "      <td>강원 속초시 - 브런치 / 버거 / 샌드위치</td>\n",
       "      <td>16463</td>\n",
       "      <td>14</td>\n",
       "      <td>강원도 속초시 교동 780-55</td>\n",
       "      <td>강원도 속초시 교동</td>\n",
       "      <td>25</td>\n",
       "      <td>10</td>\n",
       "    </tr>\n",
       "    <tr>\n",
       "      <th>...</th>\n",
       "      <td>...</td>\n",
       "      <td>...</td>\n",
       "      <td>...</td>\n",
       "      <td>...</td>\n",
       "      <td>...</td>\n",
       "      <td>...</td>\n",
       "      <td>...</td>\n",
       "      <td>...</td>\n",
       "      <td>...</td>\n",
       "    </tr>\n",
       "    <tr>\n",
       "      <th>1008</th>\n",
       "      <td>식객</td>\n",
       "      <td>0.0</td>\n",
       "      <td>강원 고성군 - 고기 요리</td>\n",
       "      <td>1957</td>\n",
       "      <td>1</td>\n",
       "      <td>강원도 고성군 토성면 원암리 403-1</td>\n",
       "      <td>강원도 고성군 토성면</td>\n",
       "      <td>15</td>\n",
       "      <td>5</td>\n",
       "    </tr>\n",
       "    <tr>\n",
       "      <th>1009</th>\n",
       "      <td>거진포구</td>\n",
       "      <td>0.0</td>\n",
       "      <td>강원 고성군 - 해산물 요리</td>\n",
       "      <td>1933</td>\n",
       "      <td>1</td>\n",
       "      <td>강원도 고성군 거진읍 거진리 287-119</td>\n",
       "      <td>강원도 고성군 거진읍</td>\n",
       "      <td>15</td>\n",
       "      <td>5</td>\n",
       "    </tr>\n",
       "    <tr>\n",
       "      <th>1010</th>\n",
       "      <td>송지호막국수</td>\n",
       "      <td>0.0</td>\n",
       "      <td>강원 고성군 - 국수 / 면 요리</td>\n",
       "      <td>1726</td>\n",
       "      <td>1</td>\n",
       "      <td>강원도 고성군 죽왕면 오호리 343</td>\n",
       "      <td>강원도 고성군 죽왕면</td>\n",
       "      <td>15</td>\n",
       "      <td>5</td>\n",
       "    </tr>\n",
       "    <tr>\n",
       "      <th>1011</th>\n",
       "      <td>금강보신삼계탕</td>\n",
       "      <td>0.0</td>\n",
       "      <td>강원 고성군 - 탕 / 찌개 / 전골</td>\n",
       "      <td>842</td>\n",
       "      <td>1</td>\n",
       "      <td>강원도 고성군 거진읍 거진리 148-28</td>\n",
       "      <td>강원도 고성군 거진읍</td>\n",
       "      <td>15</td>\n",
       "      <td>3</td>\n",
       "    </tr>\n",
       "    <tr>\n",
       "      <th>1012</th>\n",
       "      <td>한일수산</td>\n",
       "      <td>0.0</td>\n",
       "      <td>강원 고성군 - 해산물 요리</td>\n",
       "      <td>461</td>\n",
       "      <td>1</td>\n",
       "      <td>강원도 고성군 토성면 봉포리 1-5</td>\n",
       "      <td>강원도 고성군 토성면</td>\n",
       "      <td>15</td>\n",
       "      <td>3</td>\n",
       "    </tr>\n",
       "  </tbody>\n",
       "</table>\n",
       "<p>667 rows × 9 columns</p>\n",
       "</div>"
      ],
      "text/plain": [
       "          title  search_point                       etc  view_count  \\\n",
       "0         모녀가리비           4.5           강원 속초시 - 해산물 요리        4174   \n",
       "1      속초붉은대게수산           4.4           강원 속초시 - 해산물 요리       34739   \n",
       "2          단천식당           4.3      강원 속초시 - 탕 / 찌개 / 전골       30457   \n",
       "3         왕박골식당           4.3        강원 속초시 - 국수 / 면 요리       24858   \n",
       "4     속초751샌드위치           4.3  강원 속초시 - 브런치 / 버거 / 샌드위치       16463   \n",
       "...         ...           ...                       ...         ...   \n",
       "1008         식객           0.0            강원 고성군 - 고기 요리        1957   \n",
       "1009       거진포구           0.0           강원 고성군 - 해산물 요리        1933   \n",
       "1010     송지호막국수           0.0        강원 고성군 - 국수 / 면 요리        1726   \n",
       "1011    금강보신삼계탕           0.0      강원 고성군 - 탕 / 찌개 / 전골         842   \n",
       "1012       한일수산           0.0           강원 고성군 - 해산물 요리         461   \n",
       "\n",
       "      review_count                  address     dongname  score_search_point  \\\n",
       "0               10       강원도 속초시 대포동 964-13  강원도 속초시 대포동                  30   \n",
       "1               17        강원도 속초시 중앙동 472-5  강원도 속초시 중앙동                  30   \n",
       "2               38          강원도 속초시 청호동 842  강원도 속초시 청호동                  25   \n",
       "3               14        강원도 속초시 장사동 525-3  강원도 속초시 장사동                  25   \n",
       "4               14        강원도 속초시 교동 780-55   강원도 속초시 교동                  25   \n",
       "...            ...                      ...          ...                 ...   \n",
       "1008             1    강원도 고성군 토성면 원암리 403-1  강원도 고성군 토성면                  15   \n",
       "1009             1  강원도 고성군 거진읍 거진리 287-119  강원도 고성군 거진읍                  15   \n",
       "1010             1      강원도 고성군 죽왕면 오호리 343  강원도 고성군 죽왕면                  15   \n",
       "1011             1   강원도 고성군 거진읍 거진리 148-28  강원도 고성군 거진읍                  15   \n",
       "1012             1      강원도 고성군 토성면 봉포리 1-5  강원도 고성군 토성면                  15   \n",
       "\n",
       "      score_view_count  \n",
       "0                    7  \n",
       "1                   10  \n",
       "2                   10  \n",
       "3                   10  \n",
       "4                   10  \n",
       "...                ...  \n",
       "1008                 5  \n",
       "1009                 5  \n",
       "1010                 5  \n",
       "1011                 3  \n",
       "1012                 3  \n",
       "\n",
       "[667 rows x 9 columns]"
      ]
     },
     "execution_count": 107,
     "metadata": {},
     "output_type": "execute_result"
    }
   ],
   "source": [
    "df_review"
   ]
  },
  {
   "cell_type": "code",
   "execution_count": 108,
   "id": "de135fe0",
   "metadata": {
    "ExecuteTime": {
     "end_time": "2021-12-05T07:10:50.983418Z",
     "start_time": "2021-12-05T07:10:50.943497Z"
    }
   },
   "outputs": [
    {
     "data": {
      "text/html": [
       "<div>\n",
       "<style scoped>\n",
       "    .dataframe tbody tr th:only-of-type {\n",
       "        vertical-align: middle;\n",
       "    }\n",
       "\n",
       "    .dataframe tbody tr th {\n",
       "        vertical-align: top;\n",
       "    }\n",
       "\n",
       "    .dataframe thead th {\n",
       "        text-align: right;\n",
       "    }\n",
       "</style>\n",
       "<table border=\"1\" class=\"dataframe\">\n",
       "  <thead>\n",
       "    <tr style=\"text-align: right;\">\n",
       "      <th></th>\n",
       "      <th>search_point</th>\n",
       "      <th>view_count</th>\n",
       "      <th>review_count</th>\n",
       "      <th>score_search_point</th>\n",
       "      <th>score_view_count</th>\n",
       "    </tr>\n",
       "  </thead>\n",
       "  <tbody>\n",
       "    <tr>\n",
       "      <th>count</th>\n",
       "      <td>667.000000</td>\n",
       "      <td>667.000000</td>\n",
       "      <td>667.000000</td>\n",
       "      <td>667.000000</td>\n",
       "      <td>667.000000</td>\n",
       "    </tr>\n",
       "    <tr>\n",
       "      <th>mean</th>\n",
       "      <td>0.586507</td>\n",
       "      <td>5501.295352</td>\n",
       "      <td>6.521739</td>\n",
       "      <td>15.614693</td>\n",
       "      <td>5.350825</td>\n",
       "    </tr>\n",
       "    <tr>\n",
       "      <th>std</th>\n",
       "      <td>1.386192</td>\n",
       "      <td>17260.457124</td>\n",
       "      <td>19.824850</td>\n",
       "      <td>2.311343</td>\n",
       "      <td>2.222566</td>\n",
       "    </tr>\n",
       "    <tr>\n",
       "      <th>min</th>\n",
       "      <td>0.000000</td>\n",
       "      <td>4.000000</td>\n",
       "      <td>1.000000</td>\n",
       "      <td>12.000000</td>\n",
       "      <td>3.000000</td>\n",
       "    </tr>\n",
       "    <tr>\n",
       "      <th>25%</th>\n",
       "      <td>0.000000</td>\n",
       "      <td>683.000000</td>\n",
       "      <td>1.000000</td>\n",
       "      <td>15.000000</td>\n",
       "      <td>3.000000</td>\n",
       "    </tr>\n",
       "    <tr>\n",
       "      <th>50%</th>\n",
       "      <td>0.000000</td>\n",
       "      <td>1463.000000</td>\n",
       "      <td>2.000000</td>\n",
       "      <td>15.000000</td>\n",
       "      <td>5.000000</td>\n",
       "    </tr>\n",
       "    <tr>\n",
       "      <th>75%</th>\n",
       "      <td>0.000000</td>\n",
       "      <td>3146.000000</td>\n",
       "      <td>4.000000</td>\n",
       "      <td>15.000000</td>\n",
       "      <td>7.000000</td>\n",
       "    </tr>\n",
       "    <tr>\n",
       "      <th>max</th>\n",
       "      <td>4.500000</td>\n",
       "      <td>297917.000000</td>\n",
       "      <td>286.000000</td>\n",
       "      <td>30.000000</td>\n",
       "      <td>10.000000</td>\n",
       "    </tr>\n",
       "  </tbody>\n",
       "</table>\n",
       "</div>"
      ],
      "text/plain": [
       "       search_point     view_count  review_count  score_search_point  \\\n",
       "count    667.000000     667.000000    667.000000          667.000000   \n",
       "mean       0.586507    5501.295352      6.521739           15.614693   \n",
       "std        1.386192   17260.457124     19.824850            2.311343   \n",
       "min        0.000000       4.000000      1.000000           12.000000   \n",
       "25%        0.000000     683.000000      1.000000           15.000000   \n",
       "50%        0.000000    1463.000000      2.000000           15.000000   \n",
       "75%        0.000000    3146.000000      4.000000           15.000000   \n",
       "max        4.500000  297917.000000    286.000000           30.000000   \n",
       "\n",
       "       score_view_count  \n",
       "count        667.000000  \n",
       "mean           5.350825  \n",
       "std            2.222566  \n",
       "min            3.000000  \n",
       "25%            3.000000  \n",
       "50%            5.000000  \n",
       "75%            7.000000  \n",
       "max           10.000000  "
      ]
     },
     "execution_count": 108,
     "metadata": {},
     "output_type": "execute_result"
    }
   ],
   "source": [
    "df_review.describe()"
   ]
  },
  {
   "cell_type": "code",
   "execution_count": 115,
   "id": "4d9951c6",
   "metadata": {
    "ExecuteTime": {
     "end_time": "2021-12-05T07:14:39.966202Z",
     "start_time": "2021-12-05T07:14:39.955233Z"
    }
   },
   "outputs": [
    {
     "data": {
      "text/plain": [
       "16      286\n",
       "17      196\n",
       "31      187\n",
       "32      178\n",
       "60      102\n",
       "       ... \n",
       "459       1\n",
       "458       1\n",
       "457       1\n",
       "456       1\n",
       "1012      1\n",
       "Name: review_count, Length: 667, dtype: int64"
      ]
     },
     "execution_count": 115,
     "metadata": {},
     "output_type": "execute_result"
    }
   ],
   "source": [
    "# 이상치 확인\n",
    "df_review[\"review_count\"].sort_values(ascending=False)"
   ]
  },
  {
   "cell_type": "code",
   "execution_count": 133,
   "id": "0269139c",
   "metadata": {
    "ExecuteTime": {
     "end_time": "2021-12-05T07:23:12.533205Z",
     "start_time": "2021-12-05T07:23:12.505284Z"
    }
   },
   "outputs": [
    {
     "data": {
      "text/html": [
       "<div>\n",
       "<style scoped>\n",
       "    .dataframe tbody tr th:only-of-type {\n",
       "        vertical-align: middle;\n",
       "    }\n",
       "\n",
       "    .dataframe tbody tr th {\n",
       "        vertical-align: top;\n",
       "    }\n",
       "\n",
       "    .dataframe thead th {\n",
       "        text-align: right;\n",
       "    }\n",
       "</style>\n",
       "<table border=\"1\" class=\"dataframe\">\n",
       "  <thead>\n",
       "    <tr style=\"text-align: right;\">\n",
       "      <th></th>\n",
       "      <th>search_point</th>\n",
       "      <th>view_count</th>\n",
       "      <th>review_count</th>\n",
       "      <th>score_search_point</th>\n",
       "      <th>score_view_count</th>\n",
       "    </tr>\n",
       "  </thead>\n",
       "  <tbody>\n",
       "    <tr>\n",
       "      <th>count</th>\n",
       "      <td>186.000000</td>\n",
       "      <td>186.000000</td>\n",
       "      <td>186.000000</td>\n",
       "      <td>186.000000</td>\n",
       "      <td>186.000000</td>\n",
       "    </tr>\n",
       "    <tr>\n",
       "      <th>mean</th>\n",
       "      <td>2.103226</td>\n",
       "      <td>16259.413978</td>\n",
       "      <td>19.333333</td>\n",
       "      <td>17.204301</td>\n",
       "      <td>7.752688</td>\n",
       "    </tr>\n",
       "    <tr>\n",
       "      <th>std</th>\n",
       "      <td>1.926203</td>\n",
       "      <td>30118.187213</td>\n",
       "      <td>34.419301</td>\n",
       "      <td>3.963507</td>\n",
       "      <td>1.834539</td>\n",
       "    </tr>\n",
       "    <tr>\n",
       "      <th>min</th>\n",
       "      <td>0.000000</td>\n",
       "      <td>746.000000</td>\n",
       "      <td>4.000000</td>\n",
       "      <td>12.000000</td>\n",
       "      <td>3.000000</td>\n",
       "    </tr>\n",
       "    <tr>\n",
       "      <th>25%</th>\n",
       "      <td>0.000000</td>\n",
       "      <td>2900.000000</td>\n",
       "      <td>5.000000</td>\n",
       "      <td>15.000000</td>\n",
       "      <td>7.000000</td>\n",
       "    </tr>\n",
       "    <tr>\n",
       "      <th>50%</th>\n",
       "      <td>3.450000</td>\n",
       "      <td>5526.000000</td>\n",
       "      <td>9.000000</td>\n",
       "      <td>15.000000</td>\n",
       "      <td>7.000000</td>\n",
       "    </tr>\n",
       "    <tr>\n",
       "      <th>75%</th>\n",
       "      <td>3.900000</td>\n",
       "      <td>18268.250000</td>\n",
       "      <td>16.000000</td>\n",
       "      <td>20.000000</td>\n",
       "      <td>10.000000</td>\n",
       "    </tr>\n",
       "    <tr>\n",
       "      <th>max</th>\n",
       "      <td>4.500000</td>\n",
       "      <td>297917.000000</td>\n",
       "      <td>286.000000</td>\n",
       "      <td>30.000000</td>\n",
       "      <td>10.000000</td>\n",
       "    </tr>\n",
       "  </tbody>\n",
       "</table>\n",
       "</div>"
      ],
      "text/plain": [
       "       search_point     view_count  review_count  score_search_point  \\\n",
       "count    186.000000     186.000000    186.000000          186.000000   \n",
       "mean       2.103226   16259.413978     19.333333           17.204301   \n",
       "std        1.926203   30118.187213     34.419301            3.963507   \n",
       "min        0.000000     746.000000      4.000000           12.000000   \n",
       "25%        0.000000    2900.000000      5.000000           15.000000   \n",
       "50%        3.450000    5526.000000      9.000000           15.000000   \n",
       "75%        3.900000   18268.250000     16.000000           20.000000   \n",
       "max        4.500000  297917.000000    286.000000           30.000000   \n",
       "\n",
       "       score_view_count  \n",
       "count        186.000000  \n",
       "mean           7.752688  \n",
       "std            1.834539  \n",
       "min            3.000000  \n",
       "25%            7.000000  \n",
       "50%            7.000000  \n",
       "75%           10.000000  \n",
       "max           10.000000  "
      ]
     },
     "execution_count": 133,
     "metadata": {},
     "output_type": "execute_result"
    }
   ],
   "source": [
    "# 상위 25% 리뷰 데이터 확인\n",
    "df_review_25 = df[df[\"review_count\"] >= 4]\n",
    "df_review_25.describe()"
   ]
  },
  {
   "cell_type": "code",
   "execution_count": 163,
   "id": "6ae2bc1e",
   "metadata": {
    "ExecuteTime": {
     "end_time": "2021-12-05T07:30:46.183624Z",
     "start_time": "2021-12-05T07:30:46.175645Z"
    }
   },
   "outputs": [
    {
     "data": {
      "text/plain": [
       "0.019490254872563718"
      ]
     },
     "execution_count": 163,
     "metadata": {},
     "output_type": "execute_result"
    }
   ],
   "source": [
    "# 상위 리뷰 데이터 확인\n",
    "df_review_out = df[df[\"review_count\"] >= 50]\n",
    "len(df_review_out) / len(df_review)"
   ]
  },
  {
   "cell_type": "markdown",
   "id": "5e11a5aa",
   "metadata": {},
   "source": [
    "- 기준(10점) : 최상위권 리뷰 > 상위권 리뷰 > 평균 리뷰 > 하위권 리뷰\n",
    "- 총 1,143건 중 리뷰가 있는 667건(1개:275건, 2개:139건, 3건:67건) 약 70%가 1~3건이다.\n",
    "- 평균 : 6.5 리뷰\n",
    "- Q1 : 1 리뷰 (0 점수)\n",
    "- Q2 : 2 리뷰 (+ 점수)\n",
    "- Q3 : 4 리뷰 (++ 점수)\n",
    "- 최고 기준(5% 수준) : 14 리뷰 (+++점수)\n",
    "\n",
    "최종 결과(10점) : \n",
    ">- 최상위권 뷰( 50 리뷰 이상 - 10점)\n",
    ">- 상위권 뷰(15 리뷰 이상 - 7점)\n",
    ">- 평균 뷰(2 리뷰 이상 - 5점)\n",
    ">- 하위권 뷰 (0 리뷰 - 3점)"
   ]
  },
  {
   "cell_type": "code",
   "execution_count": 164,
   "id": "9e11f4a1",
   "metadata": {
    "ExecuteTime": {
     "end_time": "2021-12-05T07:31:55.872888Z",
     "start_time": "2021-12-05T07:31:55.854916Z"
    }
   },
   "outputs": [
    {
     "data": {
      "text/html": [
       "<div>\n",
       "<style scoped>\n",
       "    .dataframe tbody tr th:only-of-type {\n",
       "        vertical-align: middle;\n",
       "    }\n",
       "\n",
       "    .dataframe tbody tr th {\n",
       "        vertical-align: top;\n",
       "    }\n",
       "\n",
       "    .dataframe thead th {\n",
       "        text-align: right;\n",
       "    }\n",
       "</style>\n",
       "<table border=\"1\" class=\"dataframe\">\n",
       "  <thead>\n",
       "    <tr style=\"text-align: right;\">\n",
       "      <th></th>\n",
       "      <th>title</th>\n",
       "      <th>search_point</th>\n",
       "      <th>etc</th>\n",
       "      <th>view_count</th>\n",
       "      <th>review_count</th>\n",
       "      <th>address</th>\n",
       "      <th>dongname</th>\n",
       "      <th>score_search_point</th>\n",
       "      <th>score_view_count</th>\n",
       "      <th>score_review_count</th>\n",
       "    </tr>\n",
       "  </thead>\n",
       "  <tbody>\n",
       "    <tr>\n",
       "      <th>0</th>\n",
       "      <td>모녀가리비</td>\n",
       "      <td>4.5</td>\n",
       "      <td>강원 속초시 - 해산물 요리</td>\n",
       "      <td>4174</td>\n",
       "      <td>10</td>\n",
       "      <td>강원도 속초시 대포동 964-13</td>\n",
       "      <td>강원도 속초시 대포동</td>\n",
       "      <td>30</td>\n",
       "      <td>7</td>\n",
       "      <td>0.0</td>\n",
       "    </tr>\n",
       "    <tr>\n",
       "      <th>1</th>\n",
       "      <td>속초붉은대게수산</td>\n",
       "      <td>4.4</td>\n",
       "      <td>강원 속초시 - 해산물 요리</td>\n",
       "      <td>34739</td>\n",
       "      <td>17</td>\n",
       "      <td>강원도 속초시 중앙동 472-5</td>\n",
       "      <td>강원도 속초시 중앙동</td>\n",
       "      <td>30</td>\n",
       "      <td>10</td>\n",
       "      <td>0.0</td>\n",
       "    </tr>\n",
       "    <tr>\n",
       "      <th>2</th>\n",
       "      <td>단천식당</td>\n",
       "      <td>4.3</td>\n",
       "      <td>강원 속초시 - 탕 / 찌개 / 전골</td>\n",
       "      <td>30457</td>\n",
       "      <td>38</td>\n",
       "      <td>강원도 속초시 청호동 842</td>\n",
       "      <td>강원도 속초시 청호동</td>\n",
       "      <td>25</td>\n",
       "      <td>10</td>\n",
       "      <td>0.0</td>\n",
       "    </tr>\n",
       "    <tr>\n",
       "      <th>3</th>\n",
       "      <td>왕박골식당</td>\n",
       "      <td>4.3</td>\n",
       "      <td>강원 속초시 - 국수 / 면 요리</td>\n",
       "      <td>24858</td>\n",
       "      <td>14</td>\n",
       "      <td>강원도 속초시 장사동 525-3</td>\n",
       "      <td>강원도 속초시 장사동</td>\n",
       "      <td>25</td>\n",
       "      <td>10</td>\n",
       "      <td>0.0</td>\n",
       "    </tr>\n",
       "    <tr>\n",
       "      <th>4</th>\n",
       "      <td>속초751샌드위치</td>\n",
       "      <td>4.3</td>\n",
       "      <td>강원 속초시 - 브런치 / 버거 / 샌드위치</td>\n",
       "      <td>16463</td>\n",
       "      <td>14</td>\n",
       "      <td>강원도 속초시 교동 780-55</td>\n",
       "      <td>강원도 속초시 교동</td>\n",
       "      <td>25</td>\n",
       "      <td>10</td>\n",
       "      <td>0.0</td>\n",
       "    </tr>\n",
       "  </tbody>\n",
       "</table>\n",
       "</div>"
      ],
      "text/plain": [
       "       title  search_point                       etc  view_count  \\\n",
       "0      모녀가리비           4.5           강원 속초시 - 해산물 요리        4174   \n",
       "1   속초붉은대게수산           4.4           강원 속초시 - 해산물 요리       34739   \n",
       "2       단천식당           4.3      강원 속초시 - 탕 / 찌개 / 전골       30457   \n",
       "3      왕박골식당           4.3        강원 속초시 - 국수 / 면 요리       24858   \n",
       "4  속초751샌드위치           4.3  강원 속초시 - 브런치 / 버거 / 샌드위치       16463   \n",
       "\n",
       "   review_count             address     dongname  score_search_point  \\\n",
       "0            10  강원도 속초시 대포동 964-13  강원도 속초시 대포동                  30   \n",
       "1            17   강원도 속초시 중앙동 472-5  강원도 속초시 중앙동                  30   \n",
       "2            38     강원도 속초시 청호동 842  강원도 속초시 청호동                  25   \n",
       "3            14   강원도 속초시 장사동 525-3  강원도 속초시 장사동                  25   \n",
       "4            14   강원도 속초시 교동 780-55   강원도 속초시 교동                  25   \n",
       "\n",
       "   score_view_count  score_review_count  \n",
       "0                 7                 0.0  \n",
       "1                10                 0.0  \n",
       "2                10                 0.0  \n",
       "3                10                 0.0  \n",
       "4                10                 0.0  "
      ]
     },
     "execution_count": 164,
     "metadata": {},
     "output_type": "execute_result"
    }
   ],
   "source": [
    "# 리뷰 점수 부여\n",
    "df[\"score_review_count\"] = float(0)\n",
    "df.head()"
   ]
  },
  {
   "cell_type": "code",
   "execution_count": 165,
   "id": "ce397a02",
   "metadata": {
    "ExecuteTime": {
     "end_time": "2021-12-05T07:32:38.117238Z",
     "start_time": "2021-12-05T07:32:38.101281Z"
    }
   },
   "outputs": [],
   "source": [
    "# score 함수 생성\n",
    "def score_review_count(data):\n",
    "    if data >= 50:\n",
    "        return 10\n",
    "    elif (data < 50) & (data >= 15):\n",
    "        return 7\n",
    "    elif (data < 15) & (data >= 2):\n",
    "        return 5\n",
    "    else:\n",
    "        return 3"
   ]
  },
  {
   "cell_type": "code",
   "execution_count": 166,
   "id": "03dcc345",
   "metadata": {
    "ExecuteTime": {
     "end_time": "2021-12-05T07:32:51.919355Z",
     "start_time": "2021-12-05T07:32:51.902407Z"
    }
   },
   "outputs": [
    {
     "data": {
      "text/plain": [
       "0       5\n",
       "1       7\n",
       "2       7\n",
       "3       5\n",
       "4       5\n",
       "       ..\n",
       "1138    3\n",
       "1139    3\n",
       "1140    3\n",
       "1141    3\n",
       "1142    3\n",
       "Name: score_review_count, Length: 1143, dtype: int64"
      ]
     },
     "execution_count": 166,
     "metadata": {},
     "output_type": "execute_result"
    }
   ],
   "source": [
    "# 실행\n",
    "df[\"score_review_count\"] = df[\"review_count\"].apply(score_review_count)\n",
    "df[\"score_review_count\"]"
   ]
  },
  {
   "cell_type": "code",
   "execution_count": 167,
   "id": "f77b0791",
   "metadata": {
    "ExecuteTime": {
     "end_time": "2021-12-05T07:32:59.812654Z",
     "start_time": "2021-12-05T07:32:59.785206Z"
    }
   },
   "outputs": [
    {
     "data": {
      "text/html": [
       "<div>\n",
       "<style scoped>\n",
       "    .dataframe tbody tr th:only-of-type {\n",
       "        vertical-align: middle;\n",
       "    }\n",
       "\n",
       "    .dataframe tbody tr th {\n",
       "        vertical-align: top;\n",
       "    }\n",
       "\n",
       "    .dataframe thead th {\n",
       "        text-align: right;\n",
       "    }\n",
       "</style>\n",
       "<table border=\"1\" class=\"dataframe\">\n",
       "  <thead>\n",
       "    <tr style=\"text-align: right;\">\n",
       "      <th></th>\n",
       "      <th>title</th>\n",
       "      <th>search_point</th>\n",
       "      <th>etc</th>\n",
       "      <th>view_count</th>\n",
       "      <th>review_count</th>\n",
       "      <th>address</th>\n",
       "      <th>dongname</th>\n",
       "      <th>score_search_point</th>\n",
       "      <th>score_view_count</th>\n",
       "      <th>score_review_count</th>\n",
       "    </tr>\n",
       "  </thead>\n",
       "  <tbody>\n",
       "    <tr>\n",
       "      <th>0</th>\n",
       "      <td>모녀가리비</td>\n",
       "      <td>4.5</td>\n",
       "      <td>강원 속초시 - 해산물 요리</td>\n",
       "      <td>4174</td>\n",
       "      <td>10</td>\n",
       "      <td>강원도 속초시 대포동 964-13</td>\n",
       "      <td>강원도 속초시 대포동</td>\n",
       "      <td>30</td>\n",
       "      <td>7</td>\n",
       "      <td>5</td>\n",
       "    </tr>\n",
       "    <tr>\n",
       "      <th>1</th>\n",
       "      <td>속초붉은대게수산</td>\n",
       "      <td>4.4</td>\n",
       "      <td>강원 속초시 - 해산물 요리</td>\n",
       "      <td>34739</td>\n",
       "      <td>17</td>\n",
       "      <td>강원도 속초시 중앙동 472-5</td>\n",
       "      <td>강원도 속초시 중앙동</td>\n",
       "      <td>30</td>\n",
       "      <td>10</td>\n",
       "      <td>7</td>\n",
       "    </tr>\n",
       "    <tr>\n",
       "      <th>2</th>\n",
       "      <td>단천식당</td>\n",
       "      <td>4.3</td>\n",
       "      <td>강원 속초시 - 탕 / 찌개 / 전골</td>\n",
       "      <td>30457</td>\n",
       "      <td>38</td>\n",
       "      <td>강원도 속초시 청호동 842</td>\n",
       "      <td>강원도 속초시 청호동</td>\n",
       "      <td>25</td>\n",
       "      <td>10</td>\n",
       "      <td>7</td>\n",
       "    </tr>\n",
       "    <tr>\n",
       "      <th>3</th>\n",
       "      <td>왕박골식당</td>\n",
       "      <td>4.3</td>\n",
       "      <td>강원 속초시 - 국수 / 면 요리</td>\n",
       "      <td>24858</td>\n",
       "      <td>14</td>\n",
       "      <td>강원도 속초시 장사동 525-3</td>\n",
       "      <td>강원도 속초시 장사동</td>\n",
       "      <td>25</td>\n",
       "      <td>10</td>\n",
       "      <td>5</td>\n",
       "    </tr>\n",
       "    <tr>\n",
       "      <th>4</th>\n",
       "      <td>속초751샌드위치</td>\n",
       "      <td>4.3</td>\n",
       "      <td>강원 속초시 - 브런치 / 버거 / 샌드위치</td>\n",
       "      <td>16463</td>\n",
       "      <td>14</td>\n",
       "      <td>강원도 속초시 교동 780-55</td>\n",
       "      <td>강원도 속초시 교동</td>\n",
       "      <td>25</td>\n",
       "      <td>10</td>\n",
       "      <td>5</td>\n",
       "    </tr>\n",
       "    <tr>\n",
       "      <th>...</th>\n",
       "      <td>...</td>\n",
       "      <td>...</td>\n",
       "      <td>...</td>\n",
       "      <td>...</td>\n",
       "      <td>...</td>\n",
       "      <td>...</td>\n",
       "      <td>...</td>\n",
       "      <td>...</td>\n",
       "      <td>...</td>\n",
       "      <td>...</td>\n",
       "    </tr>\n",
       "    <tr>\n",
       "      <th>1138</th>\n",
       "      <td>해바라기식당</td>\n",
       "      <td>0.0</td>\n",
       "      <td>강원 고성군 - 해산물 요리</td>\n",
       "      <td>119</td>\n",
       "      <td>0</td>\n",
       "      <td>강원도 고성군 거진읍 거진리 29-3</td>\n",
       "      <td>강원도 고성군 거진읍</td>\n",
       "      <td>15</td>\n",
       "      <td>3</td>\n",
       "      <td>3</td>\n",
       "    </tr>\n",
       "    <tr>\n",
       "      <th>1139</th>\n",
       "      <td>메트로폴리스</td>\n",
       "      <td>0.0</td>\n",
       "      <td>강원 고성군 - 카페 / 디저트</td>\n",
       "      <td>119</td>\n",
       "      <td>0</td>\n",
       "      <td>강원도 고성군 죽왕면 문암진리 81-25</td>\n",
       "      <td>강원도 고성군 죽왕면</td>\n",
       "      <td>15</td>\n",
       "      <td>3</td>\n",
       "      <td>3</td>\n",
       "    </tr>\n",
       "    <tr>\n",
       "      <th>1140</th>\n",
       "      <td>BBQ치킨(고성대진점)</td>\n",
       "      <td>0.0</td>\n",
       "      <td>강원 고성군 - 닭 / 오리 요리</td>\n",
       "      <td>117</td>\n",
       "      <td>0</td>\n",
       "      <td>강원도 고성군 현내면 대진리 111-7</td>\n",
       "      <td>강원도 고성군 현내면</td>\n",
       "      <td>15</td>\n",
       "      <td>3</td>\n",
       "      <td>3</td>\n",
       "    </tr>\n",
       "    <tr>\n",
       "      <th>1141</th>\n",
       "      <td>일차돌(고성점)</td>\n",
       "      <td>0.0</td>\n",
       "      <td>강원 고성군 - 고기 요리</td>\n",
       "      <td>104</td>\n",
       "      <td>0</td>\n",
       "      <td>강원도 고성군 간성읍 신안리 248-2</td>\n",
       "      <td>강원도 고성군 간성읍</td>\n",
       "      <td>15</td>\n",
       "      <td>3</td>\n",
       "      <td>3</td>\n",
       "    </tr>\n",
       "    <tr>\n",
       "      <th>1142</th>\n",
       "      <td>올라</td>\n",
       "      <td>0.0</td>\n",
       "      <td>강원 고성군 - 카페 / 디저트</td>\n",
       "      <td>104</td>\n",
       "      <td>0</td>\n",
       "      <td>강원도 고성군 토성면 천진리 110</td>\n",
       "      <td>강원도 고성군 토성면</td>\n",
       "      <td>15</td>\n",
       "      <td>3</td>\n",
       "      <td>3</td>\n",
       "    </tr>\n",
       "  </tbody>\n",
       "</table>\n",
       "<p>1143 rows × 10 columns</p>\n",
       "</div>"
      ],
      "text/plain": [
       "             title  search_point                       etc  view_count  \\\n",
       "0            모녀가리비           4.5           강원 속초시 - 해산물 요리        4174   \n",
       "1         속초붉은대게수산           4.4           강원 속초시 - 해산물 요리       34739   \n",
       "2             단천식당           4.3      강원 속초시 - 탕 / 찌개 / 전골       30457   \n",
       "3            왕박골식당           4.3        강원 속초시 - 국수 / 면 요리       24858   \n",
       "4        속초751샌드위치           4.3  강원 속초시 - 브런치 / 버거 / 샌드위치       16463   \n",
       "...            ...           ...                       ...         ...   \n",
       "1138        해바라기식당           0.0           강원 고성군 - 해산물 요리         119   \n",
       "1139        메트로폴리스           0.0         강원 고성군 - 카페 / 디저트         119   \n",
       "1140  BBQ치킨(고성대진점)           0.0        강원 고성군 - 닭 / 오리 요리         117   \n",
       "1141      일차돌(고성점)           0.0            강원 고성군 - 고기 요리         104   \n",
       "1142            올라           0.0         강원 고성군 - 카페 / 디저트         104   \n",
       "\n",
       "      review_count                 address     dongname  score_search_point  \\\n",
       "0               10      강원도 속초시 대포동 964-13  강원도 속초시 대포동                  30   \n",
       "1               17       강원도 속초시 중앙동 472-5  강원도 속초시 중앙동                  30   \n",
       "2               38         강원도 속초시 청호동 842  강원도 속초시 청호동                  25   \n",
       "3               14       강원도 속초시 장사동 525-3  강원도 속초시 장사동                  25   \n",
       "4               14       강원도 속초시 교동 780-55   강원도 속초시 교동                  25   \n",
       "...            ...                     ...          ...                 ...   \n",
       "1138             0    강원도 고성군 거진읍 거진리 29-3  강원도 고성군 거진읍                  15   \n",
       "1139             0  강원도 고성군 죽왕면 문암진리 81-25  강원도 고성군 죽왕면                  15   \n",
       "1140             0   강원도 고성군 현내면 대진리 111-7  강원도 고성군 현내면                  15   \n",
       "1141             0   강원도 고성군 간성읍 신안리 248-2  강원도 고성군 간성읍                  15   \n",
       "1142             0     강원도 고성군 토성면 천진리 110  강원도 고성군 토성면                  15   \n",
       "\n",
       "      score_view_count  score_review_count  \n",
       "0                    7                   5  \n",
       "1                   10                   7  \n",
       "2                   10                   7  \n",
       "3                   10                   5  \n",
       "4                   10                   5  \n",
       "...                ...                 ...  \n",
       "1138                 3                   3  \n",
       "1139                 3                   3  \n",
       "1140                 3                   3  \n",
       "1141                 3                   3  \n",
       "1142                 3                   3  \n",
       "\n",
       "[1143 rows x 10 columns]"
      ]
     },
     "execution_count": 167,
     "metadata": {},
     "output_type": "execute_result"
    }
   ],
   "source": [
    "# 확인\n",
    "df"
   ]
  },
  {
   "cell_type": "code",
   "execution_count": 168,
   "id": "c108b73d",
   "metadata": {
    "ExecuteTime": {
     "end_time": "2021-12-05T07:34:04.723445Z",
     "start_time": "2021-12-05T07:34:04.697547Z"
    }
   },
   "outputs": [],
   "source": [
    "# 저장\n",
    "df.to_csv(\"속초-고성_맛집(점수).csv\", encoding='utf-8', index=False)"
   ]
  }
 ],
 "metadata": {
  "kernelspec": {
   "display_name": "Python 3",
   "language": "python",
   "name": "python3"
  },
  "language_info": {
   "codemirror_mode": {
    "name": "ipython",
    "version": 3
   },
   "file_extension": ".py",
   "mimetype": "text/x-python",
   "name": "python",
   "nbconvert_exporter": "python",
   "pygments_lexer": "ipython3",
   "version": "3.8.8"
  },
  "toc": {
   "base_numbering": 1,
   "nav_menu": {},
   "number_sections": true,
   "sideBar": true,
   "skip_h1_title": false,
   "title_cell": "Table of Contents",
   "title_sidebar": "Contents",
   "toc_cell": false,
   "toc_position": {},
   "toc_section_display": true,
   "toc_window_display": false
  },
  "varInspector": {
   "cols": {
    "lenName": 16,
    "lenType": 16,
    "lenVar": 40
   },
   "kernels_config": {
    "python": {
     "delete_cmd_postfix": "",
     "delete_cmd_prefix": "del ",
     "library": "var_list.py",
     "varRefreshCmd": "print(var_dic_list())"
    },
    "r": {
     "delete_cmd_postfix": ") ",
     "delete_cmd_prefix": "rm(",
     "library": "var_list.r",
     "varRefreshCmd": "cat(var_dic_list()) "
    }
   },
   "types_to_exclude": [
    "module",
    "function",
    "builtin_function_or_method",
    "instance",
    "_Feature"
   ],
   "window_display": false
  }
 },
 "nbformat": 4,
 "nbformat_minor": 5
}
